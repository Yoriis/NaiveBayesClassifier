{
 "cells": [
  {
   "cell_type": "code",
   "execution_count": 1,
   "id": "initial_id",
   "metadata": {
    "collapsed": true,
    "ExecuteTime": {
     "end_time": "2024-04-15T17:40:44.968707Z",
     "start_time": "2024-04-15T17:40:44.951707800Z"
    }
   },
   "outputs": [],
   "source": [
    "import numpy as np\n",
    "import pandas as pd\n",
    "import matplotlib.pyplot as plt\n",
    "import seaborn as sns"
   ]
  },
  {
   "cell_type": "markdown",
   "source": [
    "# Naive Bayes Classifier \n",
    "\n",
    "To create a naive bayes classifier from scratch, I needed to put in order the steps that needed to be taken:\n",
    "* Import the data off of which we'll be building the classifier using pandas, and clean it if necessary.\n",
    "* Calculating the prior for both values of $y$, the case that the person made more than 50K is classified as 'yes', and if they make less it's classified as 'no'. We then create a dictionary to contain both prior values.\n",
    "* For each feature in the dataset, calculate the likelihood of that feature given $y = yes$ and $y = no$.\n",
    "* Using the test data, we make predictions by calculating the probabilities of $y$ being yes and no respectively.\n",
    "* We create a confusion matrix to find the sensitivity, specificity, as well as the posterior probability of $y$ being 'yes', or, the person making more than 50K."
   ],
   "metadata": {
    "collapsed": false
   },
   "id": "2fe4a2986d490e7e"
  },
  {
   "cell_type": "markdown",
   "source": [
    "# 1. Inspecting the Data\n",
    "\n",
    "Creating a dataframe from the .data file was a bit of a problem at first, since I needed to manually add the column names as well as remove the commas. I also had to replace the question marks with actual np.NaN values to be detected as NA. "
   ],
   "metadata": {
    "collapsed": false
   },
   "id": "14d898d2af043368"
  },
  {
   "cell_type": "code",
   "outputs": [
    {
     "name": "stdout",
     "output_type": "stream",
     "text": [
      "<class 'pandas.core.frame.DataFrame'>\n",
      "RangeIndex: 32561 entries, 0 to 32560\n",
      "Data columns (total 15 columns):\n",
      " #   Column          Non-Null Count  Dtype \n",
      "---  ------          --------------  ----- \n",
      " 0   age             32561 non-null  object\n",
      " 1   workclass       30725 non-null  object\n",
      " 2   fnlwgt          32561 non-null  object\n",
      " 3   education       32561 non-null  object\n",
      " 4   education_num   32561 non-null  object\n",
      " 5   marital-status  32561 non-null  object\n",
      " 6   occupation      30718 non-null  object\n",
      " 7   relationship    32561 non-null  object\n",
      " 8   race            32561 non-null  object\n",
      " 9   sex             32561 non-null  object\n",
      " 10  capital-gain    32561 non-null  object\n",
      " 11  capital-loss    32561 non-null  object\n",
      " 12  hours-per-week  32561 non-null  object\n",
      " 13  native-country  31978 non-null  object\n",
      " 14  income          32561 non-null  object\n",
      "dtypes: object(15)\n",
      "memory usage: 3.7+ MB\n"
     ]
    }
   ],
   "source": [
    "df = pd.read_csv('adult.data', sep = ' ', header = None, names = ['age', 'workclass', 'fnlwgt', 'education', 'education_num', 'marital-status', 'occupation', 'relationship', 'race', 'sex', 'capital-gain', 'capital-loss', 'hours-per-week', 'native-country', 'income'])\n",
    "\n",
    "df.replace(',', '', regex=True, inplace=True)\n",
    "df = df.replace('?', np.NaN)\n",
    "\n",
    "df.info()"
   ],
   "metadata": {
    "collapsed": false,
    "ExecuteTime": {
     "end_time": "2024-04-15T17:40:45.460707500Z",
     "start_time": "2024-04-15T17:40:44.968707Z"
    }
   },
   "id": "d5c5ab1da71c701d",
   "execution_count": 2
  },
  {
   "cell_type": "code",
   "outputs": [
    {
     "data": {
      "text/plain": "  age         workclass  fnlwgt  education education_num      marital-status  \\\n0  39         State-gov   77516  Bachelors            13       Never-married   \n1  50  Self-emp-not-inc   83311  Bachelors            13  Married-civ-spouse   \n2  38           Private  215646    HS-grad             9            Divorced   \n3  53           Private  234721       11th             7  Married-civ-spouse   \n4  28           Private  338409  Bachelors            13  Married-civ-spouse   \n\n          occupation   relationship   race     sex capital-gain capital-loss  \\\n0       Adm-clerical  Not-in-family  White    Male         2174            0   \n1    Exec-managerial        Husband  White    Male            0            0   \n2  Handlers-cleaners  Not-in-family  White    Male            0            0   \n3  Handlers-cleaners        Husband  Black    Male            0            0   \n4     Prof-specialty           Wife  Black  Female            0            0   \n\n  hours-per-week native-country income  \n0             40  United-States  <=50K  \n1             13  United-States  <=50K  \n2             40  United-States  <=50K  \n3             40  United-States  <=50K  \n4             40           Cuba  <=50K  ",
      "text/html": "<div>\n<style scoped>\n    .dataframe tbody tr th:only-of-type {\n        vertical-align: middle;\n    }\n\n    .dataframe tbody tr th {\n        vertical-align: top;\n    }\n\n    .dataframe thead th {\n        text-align: right;\n    }\n</style>\n<table border=\"1\" class=\"dataframe\">\n  <thead>\n    <tr style=\"text-align: right;\">\n      <th></th>\n      <th>age</th>\n      <th>workclass</th>\n      <th>fnlwgt</th>\n      <th>education</th>\n      <th>education_num</th>\n      <th>marital-status</th>\n      <th>occupation</th>\n      <th>relationship</th>\n      <th>race</th>\n      <th>sex</th>\n      <th>capital-gain</th>\n      <th>capital-loss</th>\n      <th>hours-per-week</th>\n      <th>native-country</th>\n      <th>income</th>\n    </tr>\n  </thead>\n  <tbody>\n    <tr>\n      <th>0</th>\n      <td>39</td>\n      <td>State-gov</td>\n      <td>77516</td>\n      <td>Bachelors</td>\n      <td>13</td>\n      <td>Never-married</td>\n      <td>Adm-clerical</td>\n      <td>Not-in-family</td>\n      <td>White</td>\n      <td>Male</td>\n      <td>2174</td>\n      <td>0</td>\n      <td>40</td>\n      <td>United-States</td>\n      <td>&lt;=50K</td>\n    </tr>\n    <tr>\n      <th>1</th>\n      <td>50</td>\n      <td>Self-emp-not-inc</td>\n      <td>83311</td>\n      <td>Bachelors</td>\n      <td>13</td>\n      <td>Married-civ-spouse</td>\n      <td>Exec-managerial</td>\n      <td>Husband</td>\n      <td>White</td>\n      <td>Male</td>\n      <td>0</td>\n      <td>0</td>\n      <td>13</td>\n      <td>United-States</td>\n      <td>&lt;=50K</td>\n    </tr>\n    <tr>\n      <th>2</th>\n      <td>38</td>\n      <td>Private</td>\n      <td>215646</td>\n      <td>HS-grad</td>\n      <td>9</td>\n      <td>Divorced</td>\n      <td>Handlers-cleaners</td>\n      <td>Not-in-family</td>\n      <td>White</td>\n      <td>Male</td>\n      <td>0</td>\n      <td>0</td>\n      <td>40</td>\n      <td>United-States</td>\n      <td>&lt;=50K</td>\n    </tr>\n    <tr>\n      <th>3</th>\n      <td>53</td>\n      <td>Private</td>\n      <td>234721</td>\n      <td>11th</td>\n      <td>7</td>\n      <td>Married-civ-spouse</td>\n      <td>Handlers-cleaners</td>\n      <td>Husband</td>\n      <td>Black</td>\n      <td>Male</td>\n      <td>0</td>\n      <td>0</td>\n      <td>40</td>\n      <td>United-States</td>\n      <td>&lt;=50K</td>\n    </tr>\n    <tr>\n      <th>4</th>\n      <td>28</td>\n      <td>Private</td>\n      <td>338409</td>\n      <td>Bachelors</td>\n      <td>13</td>\n      <td>Married-civ-spouse</td>\n      <td>Prof-specialty</td>\n      <td>Wife</td>\n      <td>Black</td>\n      <td>Female</td>\n      <td>0</td>\n      <td>0</td>\n      <td>40</td>\n      <td>Cuba</td>\n      <td>&lt;=50K</td>\n    </tr>\n  </tbody>\n</table>\n</div>"
     },
     "execution_count": 3,
     "metadata": {},
     "output_type": "execute_result"
    }
   ],
   "source": [
    "df.head()"
   ],
   "metadata": {
    "collapsed": false,
    "ExecuteTime": {
     "end_time": "2024-04-15T17:40:45.517706300Z",
     "start_time": "2024-04-15T17:40:45.462707200Z"
    }
   },
   "id": "5fe2f2358b7d46a9",
   "execution_count": 3
  },
  {
   "cell_type": "code",
   "outputs": [
    {
     "data": {
      "text/plain": "      age         workclass  fnlwgt   education education_num  \\\n0      39         State-gov   77516   Bachelors            13   \n1      50  Self-emp-not-inc   83311   Bachelors            13   \n2      38           Private  215646     HS-grad             9   \n3      53           Private  234721        11th             7   \n4      28           Private  338409   Bachelors            13   \n...    ..               ...     ...         ...           ...   \n32556  27           Private  257302  Assoc-acdm            12   \n32557  40           Private  154374     HS-grad             9   \n32558  58           Private  151910     HS-grad             9   \n32559  22           Private  201490     HS-grad             9   \n32560  52      Self-emp-inc  287927     HS-grad             9   \n\n           marital-status         occupation   relationship   race     sex  \\\n0           Never-married       Adm-clerical  Not-in-family  White    Male   \n1      Married-civ-spouse    Exec-managerial        Husband  White    Male   \n2                Divorced  Handlers-cleaners  Not-in-family  White    Male   \n3      Married-civ-spouse  Handlers-cleaners        Husband  Black    Male   \n4      Married-civ-spouse     Prof-specialty           Wife  Black  Female   \n...                   ...                ...            ...    ...     ...   \n32556  Married-civ-spouse       Tech-support           Wife  White  Female   \n32557  Married-civ-spouse  Machine-op-inspct        Husband  White    Male   \n32558             Widowed       Adm-clerical      Unmarried  White  Female   \n32559       Never-married       Adm-clerical      Own-child  White    Male   \n32560  Married-civ-spouse    Exec-managerial           Wife  White  Female   \n\n      capital-gain capital-loss hours-per-week native-country income  \n0             2174            0             40  United-States  <=50K  \n1                0            0             13  United-States  <=50K  \n2                0            0             40  United-States  <=50K  \n3                0            0             40  United-States  <=50K  \n4                0            0             40           Cuba  <=50K  \n...            ...          ...            ...            ...    ...  \n32556            0            0             38  United-States  <=50K  \n32557            0            0             40  United-States   >50K  \n32558            0            0             40  United-States  <=50K  \n32559            0            0             20  United-States  <=50K  \n32560        15024            0             40  United-States   >50K  \n\n[32561 rows x 15 columns]",
      "text/html": "<div>\n<style scoped>\n    .dataframe tbody tr th:only-of-type {\n        vertical-align: middle;\n    }\n\n    .dataframe tbody tr th {\n        vertical-align: top;\n    }\n\n    .dataframe thead th {\n        text-align: right;\n    }\n</style>\n<table border=\"1\" class=\"dataframe\">\n  <thead>\n    <tr style=\"text-align: right;\">\n      <th></th>\n      <th>age</th>\n      <th>workclass</th>\n      <th>fnlwgt</th>\n      <th>education</th>\n      <th>education_num</th>\n      <th>marital-status</th>\n      <th>occupation</th>\n      <th>relationship</th>\n      <th>race</th>\n      <th>sex</th>\n      <th>capital-gain</th>\n      <th>capital-loss</th>\n      <th>hours-per-week</th>\n      <th>native-country</th>\n      <th>income</th>\n    </tr>\n  </thead>\n  <tbody>\n    <tr>\n      <th>0</th>\n      <td>39</td>\n      <td>State-gov</td>\n      <td>77516</td>\n      <td>Bachelors</td>\n      <td>13</td>\n      <td>Never-married</td>\n      <td>Adm-clerical</td>\n      <td>Not-in-family</td>\n      <td>White</td>\n      <td>Male</td>\n      <td>2174</td>\n      <td>0</td>\n      <td>40</td>\n      <td>United-States</td>\n      <td>&lt;=50K</td>\n    </tr>\n    <tr>\n      <th>1</th>\n      <td>50</td>\n      <td>Self-emp-not-inc</td>\n      <td>83311</td>\n      <td>Bachelors</td>\n      <td>13</td>\n      <td>Married-civ-spouse</td>\n      <td>Exec-managerial</td>\n      <td>Husband</td>\n      <td>White</td>\n      <td>Male</td>\n      <td>0</td>\n      <td>0</td>\n      <td>13</td>\n      <td>United-States</td>\n      <td>&lt;=50K</td>\n    </tr>\n    <tr>\n      <th>2</th>\n      <td>38</td>\n      <td>Private</td>\n      <td>215646</td>\n      <td>HS-grad</td>\n      <td>9</td>\n      <td>Divorced</td>\n      <td>Handlers-cleaners</td>\n      <td>Not-in-family</td>\n      <td>White</td>\n      <td>Male</td>\n      <td>0</td>\n      <td>0</td>\n      <td>40</td>\n      <td>United-States</td>\n      <td>&lt;=50K</td>\n    </tr>\n    <tr>\n      <th>3</th>\n      <td>53</td>\n      <td>Private</td>\n      <td>234721</td>\n      <td>11th</td>\n      <td>7</td>\n      <td>Married-civ-spouse</td>\n      <td>Handlers-cleaners</td>\n      <td>Husband</td>\n      <td>Black</td>\n      <td>Male</td>\n      <td>0</td>\n      <td>0</td>\n      <td>40</td>\n      <td>United-States</td>\n      <td>&lt;=50K</td>\n    </tr>\n    <tr>\n      <th>4</th>\n      <td>28</td>\n      <td>Private</td>\n      <td>338409</td>\n      <td>Bachelors</td>\n      <td>13</td>\n      <td>Married-civ-spouse</td>\n      <td>Prof-specialty</td>\n      <td>Wife</td>\n      <td>Black</td>\n      <td>Female</td>\n      <td>0</td>\n      <td>0</td>\n      <td>40</td>\n      <td>Cuba</td>\n      <td>&lt;=50K</td>\n    </tr>\n    <tr>\n      <th>...</th>\n      <td>...</td>\n      <td>...</td>\n      <td>...</td>\n      <td>...</td>\n      <td>...</td>\n      <td>...</td>\n      <td>...</td>\n      <td>...</td>\n      <td>...</td>\n      <td>...</td>\n      <td>...</td>\n      <td>...</td>\n      <td>...</td>\n      <td>...</td>\n      <td>...</td>\n    </tr>\n    <tr>\n      <th>32556</th>\n      <td>27</td>\n      <td>Private</td>\n      <td>257302</td>\n      <td>Assoc-acdm</td>\n      <td>12</td>\n      <td>Married-civ-spouse</td>\n      <td>Tech-support</td>\n      <td>Wife</td>\n      <td>White</td>\n      <td>Female</td>\n      <td>0</td>\n      <td>0</td>\n      <td>38</td>\n      <td>United-States</td>\n      <td>&lt;=50K</td>\n    </tr>\n    <tr>\n      <th>32557</th>\n      <td>40</td>\n      <td>Private</td>\n      <td>154374</td>\n      <td>HS-grad</td>\n      <td>9</td>\n      <td>Married-civ-spouse</td>\n      <td>Machine-op-inspct</td>\n      <td>Husband</td>\n      <td>White</td>\n      <td>Male</td>\n      <td>0</td>\n      <td>0</td>\n      <td>40</td>\n      <td>United-States</td>\n      <td>&gt;50K</td>\n    </tr>\n    <tr>\n      <th>32558</th>\n      <td>58</td>\n      <td>Private</td>\n      <td>151910</td>\n      <td>HS-grad</td>\n      <td>9</td>\n      <td>Widowed</td>\n      <td>Adm-clerical</td>\n      <td>Unmarried</td>\n      <td>White</td>\n      <td>Female</td>\n      <td>0</td>\n      <td>0</td>\n      <td>40</td>\n      <td>United-States</td>\n      <td>&lt;=50K</td>\n    </tr>\n    <tr>\n      <th>32559</th>\n      <td>22</td>\n      <td>Private</td>\n      <td>201490</td>\n      <td>HS-grad</td>\n      <td>9</td>\n      <td>Never-married</td>\n      <td>Adm-clerical</td>\n      <td>Own-child</td>\n      <td>White</td>\n      <td>Male</td>\n      <td>0</td>\n      <td>0</td>\n      <td>20</td>\n      <td>United-States</td>\n      <td>&lt;=50K</td>\n    </tr>\n    <tr>\n      <th>32560</th>\n      <td>52</td>\n      <td>Self-emp-inc</td>\n      <td>287927</td>\n      <td>HS-grad</td>\n      <td>9</td>\n      <td>Married-civ-spouse</td>\n      <td>Exec-managerial</td>\n      <td>Wife</td>\n      <td>White</td>\n      <td>Female</td>\n      <td>15024</td>\n      <td>0</td>\n      <td>40</td>\n      <td>United-States</td>\n      <td>&gt;50K</td>\n    </tr>\n  </tbody>\n</table>\n<p>32561 rows × 15 columns</p>\n</div>"
     },
     "execution_count": 4,
     "metadata": {},
     "output_type": "execute_result"
    }
   ],
   "source": [
    "df"
   ],
   "metadata": {
    "collapsed": false,
    "ExecuteTime": {
     "end_time": "2024-04-15T17:40:45.538709100Z",
     "start_time": "2024-04-15T17:40:45.502706900Z"
    }
   },
   "id": "c58edd58c3b878cc",
   "execution_count": 4
  },
  {
   "cell_type": "markdown",
   "source": [
    "The 'fnlwgt' feature is removed for redundancy, and for severely slowing down the processing since all of its values are unique, making it obsolete.\n",
    "\n",
    "Also, to save myself the trouble, I removed the NA values. "
   ],
   "metadata": {
    "collapsed": false
   },
   "id": "122f9b04ca11cc3a"
  },
  {
   "cell_type": "code",
   "outputs": [],
   "source": [
    "df = df.drop('fnlwgt', axis = 1)"
   ],
   "metadata": {
    "collapsed": false,
    "ExecuteTime": {
     "end_time": "2024-04-15T17:40:45.541705600Z",
     "start_time": "2024-04-15T17:40:45.510706600Z"
    }
   },
   "id": "27801a2d53354fb8",
   "execution_count": 5
  },
  {
   "cell_type": "code",
   "outputs": [],
   "source": [
    "df.dropna(inplace = True)"
   ],
   "metadata": {
    "collapsed": false,
    "ExecuteTime": {
     "end_time": "2024-04-15T17:40:45.602705900Z",
     "start_time": "2024-04-15T17:40:45.522706400Z"
    }
   },
   "id": "c497968be7c4fd6e",
   "execution_count": 6
  },
  {
   "cell_type": "code",
   "outputs": [
    {
     "name": "stdout",
     "output_type": "stream",
     "text": [
      "<class 'pandas.core.frame.DataFrame'>\n",
      "Index: 30162 entries, 0 to 32560\n",
      "Data columns (total 14 columns):\n",
      " #   Column          Non-Null Count  Dtype \n",
      "---  ------          --------------  ----- \n",
      " 0   age             30162 non-null  object\n",
      " 1   workclass       30162 non-null  object\n",
      " 2   education       30162 non-null  object\n",
      " 3   education_num   30162 non-null  object\n",
      " 4   marital-status  30162 non-null  object\n",
      " 5   occupation      30162 non-null  object\n",
      " 6   relationship    30162 non-null  object\n",
      " 7   race            30162 non-null  object\n",
      " 8   sex             30162 non-null  object\n",
      " 9   capital-gain    30162 non-null  object\n",
      " 10  capital-loss    30162 non-null  object\n",
      " 11  hours-per-week  30162 non-null  object\n",
      " 12  native-country  30162 non-null  object\n",
      " 13  income          30162 non-null  object\n",
      "dtypes: object(14)\n",
      "memory usage: 3.5+ MB\n"
     ]
    }
   ],
   "source": [
    "df.info()"
   ],
   "metadata": {
    "collapsed": false,
    "ExecuteTime": {
     "end_time": "2024-04-15T17:40:45.604705600Z",
     "start_time": "2024-04-15T17:40:45.555707900Z"
    }
   },
   "id": "1b040d32240d3113",
   "execution_count": 7
  },
  {
   "cell_type": "markdown",
   "source": [
    "We find the prior values by finding the total number of $y$ being yes and no, then dividing by the size of the dataset."
   ],
   "metadata": {
    "collapsed": false
   },
   "id": "9c34fb486fbbf459"
  },
  {
   "cell_type": "code",
   "outputs": [
    {
     "data": {
      "text/plain": "{'yes': 0.24892248524633645, 'no': 0.7510775147536636}"
     },
     "execution_count": 8,
     "metadata": {},
     "output_type": "execute_result"
    }
   ],
   "source": [
    "prior = {'yes': len(df[df['income'] == '>50K']) / df.shape[0], 'no': len(df[df['income'] == '<=50K']) / df.shape[0]}\n",
    "\n",
    "prior"
   ],
   "metadata": {
    "collapsed": false,
    "ExecuteTime": {
     "end_time": "2024-04-15T17:40:45.709706100Z",
     "start_time": "2024-04-15T17:40:45.589707900Z"
    }
   },
   "id": "8d5802936c36934a",
   "execution_count": 8
  },
  {
   "cell_type": "markdown",
   "source": [
    "Since we're about to calculate the likelihood for each feature, we remove the target variable from the list of features to iterate through."
   ],
   "metadata": {
    "collapsed": false
   },
   "id": "344808d9c1deb1dd"
  },
  {
   "cell_type": "code",
   "outputs": [
    {
     "data": {
      "text/plain": "['age',\n 'workclass',\n 'education',\n 'education_num',\n 'marital-status',\n 'occupation',\n 'relationship',\n 'race',\n 'sex',\n 'capital-gain',\n 'capital-loss',\n 'hours-per-week',\n 'native-country']"
     },
     "execution_count": 9,
     "metadata": {},
     "output_type": "execute_result"
    }
   ],
   "source": [
    "cols = df.columns.values.tolist()\n",
    "cols.remove('income')\n",
    "\n",
    "cols"
   ],
   "metadata": {
    "collapsed": false,
    "ExecuteTime": {
     "end_time": "2024-04-15T17:40:45.712706400Z",
     "start_time": "2024-04-15T17:40:45.619707800Z"
    }
   },
   "id": "da058471e06f9028",
   "execution_count": 9
  },
  {
   "cell_type": "code",
   "outputs": [
    {
     "name": "stdout",
     "output_type": "stream",
     "text": [
      "<class 'pandas.core.frame.DataFrame'>\n",
      "Index: 30162 entries, 0 to 32560\n",
      "Data columns (total 14 columns):\n",
      " #   Column          Non-Null Count  Dtype \n",
      "---  ------          --------------  ----- \n",
      " 0   age             30162 non-null  int32 \n",
      " 1   workclass       30162 non-null  object\n",
      " 2   education       30162 non-null  object\n",
      " 3   education_num   30162 non-null  int32 \n",
      " 4   marital-status  30162 non-null  object\n",
      " 5   occupation      30162 non-null  object\n",
      " 6   relationship    30162 non-null  object\n",
      " 7   race            30162 non-null  object\n",
      " 8   sex             30162 non-null  object\n",
      " 9   capital-gain    30162 non-null  int32 \n",
      " 10  capital-loss    30162 non-null  int32 \n",
      " 11  hours-per-week  30162 non-null  int32 \n",
      " 12  native-country  30162 non-null  object\n",
      " 13  income          30162 non-null  object\n",
      "dtypes: int32(5), object(9)\n",
      "memory usage: 2.9+ MB\n"
     ]
    }
   ],
   "source": [
    "categorical = ['workclass', 'education', 'marital-status', 'occupation', 'relationship', 'race', 'sex', 'native-country']\n",
    "\n",
    "continuous = ['age', 'education_num', 'capital-gain', 'capital-loss', 'hours-per-week']\n",
    "\n",
    "df[continuous] = df[continuous].astype(int)\n",
    "\n",
    "df.info()"
   ],
   "metadata": {
    "collapsed": false,
    "ExecuteTime": {
     "end_time": "2024-04-15T17:40:45.718706600Z",
     "start_time": "2024-04-15T17:40:45.636706700Z"
    }
   },
   "id": "45f4709ac93d01f0",
   "execution_count": 10
  },
  {
   "cell_type": "code",
   "outputs": [
    {
     "data": {
      "text/plain": "       age         workclass   education  education_num      marital-status  \\\n0       39         State-gov   Bachelors             13       Never-married   \n1       50  Self-emp-not-inc   Bachelors             13  Married-civ-spouse   \n2       38           Private     HS-grad              9            Divorced   \n3       53           Private        11th              7  Married-civ-spouse   \n4       28           Private   Bachelors             13  Married-civ-spouse   \n...    ...               ...         ...            ...                 ...   \n32556   27           Private  Assoc-acdm             12  Married-civ-spouse   \n32557   40           Private     HS-grad              9  Married-civ-spouse   \n32558   58           Private     HS-grad              9             Widowed   \n32559   22           Private     HS-grad              9       Never-married   \n32560   52      Self-emp-inc     HS-grad              9  Married-civ-spouse   \n\n              occupation   relationship   race     sex  capital-gain  \\\n0           Adm-clerical  Not-in-family  White    Male          2174   \n1        Exec-managerial        Husband  White    Male             0   \n2      Handlers-cleaners  Not-in-family  White    Male             0   \n3      Handlers-cleaners        Husband  Black    Male             0   \n4         Prof-specialty           Wife  Black  Female             0   \n...                  ...            ...    ...     ...           ...   \n32556       Tech-support           Wife  White  Female             0   \n32557  Machine-op-inspct        Husband  White    Male             0   \n32558       Adm-clerical      Unmarried  White  Female             0   \n32559       Adm-clerical      Own-child  White    Male             0   \n32560    Exec-managerial           Wife  White  Female         15024   \n\n       capital-loss  hours-per-week native-country income  \n0                 0              40  United-States  <=50K  \n1                 0              13  United-States  <=50K  \n2                 0              40  United-States  <=50K  \n3                 0              40  United-States  <=50K  \n4                 0              40           Cuba  <=50K  \n...             ...             ...            ...    ...  \n32556             0              38  United-States  <=50K  \n32557             0              40  United-States   >50K  \n32558             0              40  United-States  <=50K  \n32559             0              20  United-States  <=50K  \n32560             0              40  United-States   >50K  \n\n[30162 rows x 14 columns]",
      "text/html": "<div>\n<style scoped>\n    .dataframe tbody tr th:only-of-type {\n        vertical-align: middle;\n    }\n\n    .dataframe tbody tr th {\n        vertical-align: top;\n    }\n\n    .dataframe thead th {\n        text-align: right;\n    }\n</style>\n<table border=\"1\" class=\"dataframe\">\n  <thead>\n    <tr style=\"text-align: right;\">\n      <th></th>\n      <th>age</th>\n      <th>workclass</th>\n      <th>education</th>\n      <th>education_num</th>\n      <th>marital-status</th>\n      <th>occupation</th>\n      <th>relationship</th>\n      <th>race</th>\n      <th>sex</th>\n      <th>capital-gain</th>\n      <th>capital-loss</th>\n      <th>hours-per-week</th>\n      <th>native-country</th>\n      <th>income</th>\n    </tr>\n  </thead>\n  <tbody>\n    <tr>\n      <th>0</th>\n      <td>39</td>\n      <td>State-gov</td>\n      <td>Bachelors</td>\n      <td>13</td>\n      <td>Never-married</td>\n      <td>Adm-clerical</td>\n      <td>Not-in-family</td>\n      <td>White</td>\n      <td>Male</td>\n      <td>2174</td>\n      <td>0</td>\n      <td>40</td>\n      <td>United-States</td>\n      <td>&lt;=50K</td>\n    </tr>\n    <tr>\n      <th>1</th>\n      <td>50</td>\n      <td>Self-emp-not-inc</td>\n      <td>Bachelors</td>\n      <td>13</td>\n      <td>Married-civ-spouse</td>\n      <td>Exec-managerial</td>\n      <td>Husband</td>\n      <td>White</td>\n      <td>Male</td>\n      <td>0</td>\n      <td>0</td>\n      <td>13</td>\n      <td>United-States</td>\n      <td>&lt;=50K</td>\n    </tr>\n    <tr>\n      <th>2</th>\n      <td>38</td>\n      <td>Private</td>\n      <td>HS-grad</td>\n      <td>9</td>\n      <td>Divorced</td>\n      <td>Handlers-cleaners</td>\n      <td>Not-in-family</td>\n      <td>White</td>\n      <td>Male</td>\n      <td>0</td>\n      <td>0</td>\n      <td>40</td>\n      <td>United-States</td>\n      <td>&lt;=50K</td>\n    </tr>\n    <tr>\n      <th>3</th>\n      <td>53</td>\n      <td>Private</td>\n      <td>11th</td>\n      <td>7</td>\n      <td>Married-civ-spouse</td>\n      <td>Handlers-cleaners</td>\n      <td>Husband</td>\n      <td>Black</td>\n      <td>Male</td>\n      <td>0</td>\n      <td>0</td>\n      <td>40</td>\n      <td>United-States</td>\n      <td>&lt;=50K</td>\n    </tr>\n    <tr>\n      <th>4</th>\n      <td>28</td>\n      <td>Private</td>\n      <td>Bachelors</td>\n      <td>13</td>\n      <td>Married-civ-spouse</td>\n      <td>Prof-specialty</td>\n      <td>Wife</td>\n      <td>Black</td>\n      <td>Female</td>\n      <td>0</td>\n      <td>0</td>\n      <td>40</td>\n      <td>Cuba</td>\n      <td>&lt;=50K</td>\n    </tr>\n    <tr>\n      <th>...</th>\n      <td>...</td>\n      <td>...</td>\n      <td>...</td>\n      <td>...</td>\n      <td>...</td>\n      <td>...</td>\n      <td>...</td>\n      <td>...</td>\n      <td>...</td>\n      <td>...</td>\n      <td>...</td>\n      <td>...</td>\n      <td>...</td>\n      <td>...</td>\n    </tr>\n    <tr>\n      <th>32556</th>\n      <td>27</td>\n      <td>Private</td>\n      <td>Assoc-acdm</td>\n      <td>12</td>\n      <td>Married-civ-spouse</td>\n      <td>Tech-support</td>\n      <td>Wife</td>\n      <td>White</td>\n      <td>Female</td>\n      <td>0</td>\n      <td>0</td>\n      <td>38</td>\n      <td>United-States</td>\n      <td>&lt;=50K</td>\n    </tr>\n    <tr>\n      <th>32557</th>\n      <td>40</td>\n      <td>Private</td>\n      <td>HS-grad</td>\n      <td>9</td>\n      <td>Married-civ-spouse</td>\n      <td>Machine-op-inspct</td>\n      <td>Husband</td>\n      <td>White</td>\n      <td>Male</td>\n      <td>0</td>\n      <td>0</td>\n      <td>40</td>\n      <td>United-States</td>\n      <td>&gt;50K</td>\n    </tr>\n    <tr>\n      <th>32558</th>\n      <td>58</td>\n      <td>Private</td>\n      <td>HS-grad</td>\n      <td>9</td>\n      <td>Widowed</td>\n      <td>Adm-clerical</td>\n      <td>Unmarried</td>\n      <td>White</td>\n      <td>Female</td>\n      <td>0</td>\n      <td>0</td>\n      <td>40</td>\n      <td>United-States</td>\n      <td>&lt;=50K</td>\n    </tr>\n    <tr>\n      <th>32559</th>\n      <td>22</td>\n      <td>Private</td>\n      <td>HS-grad</td>\n      <td>9</td>\n      <td>Never-married</td>\n      <td>Adm-clerical</td>\n      <td>Own-child</td>\n      <td>White</td>\n      <td>Male</td>\n      <td>0</td>\n      <td>0</td>\n      <td>20</td>\n      <td>United-States</td>\n      <td>&lt;=50K</td>\n    </tr>\n    <tr>\n      <th>32560</th>\n      <td>52</td>\n      <td>Self-emp-inc</td>\n      <td>HS-grad</td>\n      <td>9</td>\n      <td>Married-civ-spouse</td>\n      <td>Exec-managerial</td>\n      <td>Wife</td>\n      <td>White</td>\n      <td>Female</td>\n      <td>15024</td>\n      <td>0</td>\n      <td>40</td>\n      <td>United-States</td>\n      <td>&gt;50K</td>\n    </tr>\n  </tbody>\n</table>\n<p>30162 rows × 14 columns</p>\n</div>"
     },
     "execution_count": 11,
     "metadata": {},
     "output_type": "execute_result"
    }
   ],
   "source": [
    "df"
   ],
   "metadata": {
    "collapsed": false,
    "ExecuteTime": {
     "end_time": "2024-04-15T17:40:45.721705400Z",
     "start_time": "2024-04-15T17:40:45.674707600Z"
    }
   },
   "id": "bddf34253128f1e4",
   "execution_count": 11
  },
  {
   "cell_type": "markdown",
   "source": [
    "# 2. Creating the Classifier\n",
    "\n",
    "Initially, we create a likelihood dataframe storing the value, and its yes/no likelihoods. Then, we iterate twice: once for all the features, once for each unique value in that feature. This is a bit computationally expensive, though.\n",
    "\n",
    "When calculating the likelihood, we create a dictionary which we'll then insert into the dataframe we created, taking care that the keys match the dataframe column names."
   ],
   "metadata": {
    "collapsed": false
   },
   "id": "6a66f9f972579799"
  },
  {
   "cell_type": "code",
   "outputs": [
    {
     "data": {
      "text/plain": "Empty DataFrame\nColumns: [Feature, Value, >50K likelihood, <=50K likelihood]\nIndex: []",
      "text/html": "<div>\n<style scoped>\n    .dataframe tbody tr th:only-of-type {\n        vertical-align: middle;\n    }\n\n    .dataframe tbody tr th {\n        vertical-align: top;\n    }\n\n    .dataframe thead th {\n        text-align: right;\n    }\n</style>\n<table border=\"1\" class=\"dataframe\">\n  <thead>\n    <tr style=\"text-align: right;\">\n      <th></th>\n      <th>Feature</th>\n      <th>Value</th>\n      <th>&gt;50K likelihood</th>\n      <th>&lt;=50K likelihood</th>\n    </tr>\n  </thead>\n  <tbody>\n  </tbody>\n</table>\n</div>"
     },
     "execution_count": 12,
     "metadata": {},
     "output_type": "execute_result"
    }
   ],
   "source": [
    "likelihood_cat = pd.DataFrame(columns = ['Feature', 'Value', '>50K likelihood', '<=50K likelihood'])\n",
    "\n",
    "likelihood_cat"
   ],
   "metadata": {
    "collapsed": false,
    "ExecuteTime": {
     "end_time": "2024-04-15T17:40:45.777705500Z",
     "start_time": "2024-04-15T17:40:45.685706Z"
    }
   },
   "id": "ce3a3de6c59ffb69",
   "execution_count": 12
  },
  {
   "cell_type": "code",
   "outputs": [
    {
     "data": {
      "text/plain": "Empty DataFrame\nColumns: [Feature, Value, >50K likelihood, <=50K likelihood]\nIndex: []",
      "text/html": "<div>\n<style scoped>\n    .dataframe tbody tr th:only-of-type {\n        vertical-align: middle;\n    }\n\n    .dataframe tbody tr th {\n        vertical-align: top;\n    }\n\n    .dataframe thead th {\n        text-align: right;\n    }\n</style>\n<table border=\"1\" class=\"dataframe\">\n  <thead>\n    <tr style=\"text-align: right;\">\n      <th></th>\n      <th>Feature</th>\n      <th>Value</th>\n      <th>&gt;50K likelihood</th>\n      <th>&lt;=50K likelihood</th>\n    </tr>\n  </thead>\n  <tbody>\n  </tbody>\n</table>\n</div>"
     },
     "execution_count": 13,
     "metadata": {},
     "output_type": "execute_result"
    }
   ],
   "source": [
    "likelihood_con = pd.DataFrame(columns = ['Feature', 'Mean Yes', 'Var Yes', 'Mean No', 'Var No'])\n",
    "\n",
    "likelihood_cat"
   ],
   "metadata": {
    "collapsed": false,
    "ExecuteTime": {
     "end_time": "2024-04-15T17:40:45.782706Z",
     "start_time": "2024-04-15T17:40:45.700707300Z"
    }
   },
   "id": "eb922ebe63c39370",
   "execution_count": 13
  },
  {
   "cell_type": "markdown",
   "source": [
    "The likelihood is calculated as the probability of the feature occurring given the income range (number of both happening at the same time in the dataset), divided by the number of occurrences of the value of that range."
   ],
   "metadata": {
    "collapsed": false
   },
   "id": "77c1e978e086620"
  },
  {
   "cell_type": "code",
   "outputs": [
    {
     "name": "stdout",
     "output_type": "stream",
     "text": [
      "Continuous feature: age\n",
      "{'Feature': 'age', 'Mean Yes': 43.95911028236548, 'Var Yes': 105.45131151527511, 'Mean No': 36.60806038668668, 'Var No': 181.28829205321483}\n",
      "Discrete feature workclass: State-gov\n",
      "Discrete feature workclass: Self-emp-not-inc\n",
      "Discrete feature workclass: Private\n",
      "Discrete feature workclass: Federal-gov\n",
      "Discrete feature workclass: Local-gov\n",
      "Discrete feature workclass: Self-emp-inc\n",
      "Discrete feature workclass: Without-pay\n",
      "Discrete feature education: Bachelors\n",
      "Discrete feature education: HS-grad\n",
      "Discrete feature education: 11th\n",
      "Discrete feature education: Masters\n",
      "Discrete feature education: 9th\n",
      "Discrete feature education: Some-college\n",
      "Discrete feature education: Assoc-acdm\n",
      "Discrete feature education: 7th-8th\n",
      "Discrete feature education: Doctorate\n",
      "Discrete feature education: Assoc-voc\n",
      "Discrete feature education: Prof-school\n",
      "Discrete feature education: 5th-6th\n",
      "Discrete feature education: 10th\n",
      "Discrete feature education: Preschool\n",
      "Discrete feature education: 12th\n",
      "Discrete feature education: 1st-4th\n",
      "Continuous feature: education_num\n",
      "{'Feature': 'education_num', 'Mean Yes': 11.606419818859882, 'Var Yes': 5.608680149804254, 'Mean No': 9.629116270857244, 'Var No': 5.825189145745581}\n",
      "Discrete feature marital-status: Never-married\n",
      "Discrete feature marital-status: Married-civ-spouse\n",
      "Discrete feature marital-status: Divorced\n",
      "Discrete feature marital-status: Married-spouse-absent\n",
      "Discrete feature marital-status: Separated\n",
      "Discrete feature marital-status: Married-AF-spouse\n",
      "Discrete feature marital-status: Widowed\n",
      "Discrete feature occupation: Adm-clerical\n",
      "Discrete feature occupation: Exec-managerial\n",
      "Discrete feature occupation: Handlers-cleaners\n",
      "Discrete feature occupation: Prof-specialty\n",
      "Discrete feature occupation: Other-service\n",
      "Discrete feature occupation: Sales\n",
      "Discrete feature occupation: Transport-moving\n",
      "Discrete feature occupation: Farming-fishing\n",
      "Discrete feature occupation: Machine-op-inspct\n",
      "Discrete feature occupation: Tech-support\n",
      "Discrete feature occupation: Craft-repair\n",
      "Discrete feature occupation: Protective-serv\n",
      "Discrete feature occupation: Armed-Forces\n",
      "Discrete feature occupation: Priv-house-serv\n",
      "Discrete feature relationship: Not-in-family\n",
      "Discrete feature relationship: Husband\n",
      "Discrete feature relationship: Wife\n",
      "Discrete feature relationship: Own-child\n",
      "Discrete feature relationship: Unmarried\n",
      "Discrete feature relationship: Other-relative\n",
      "Discrete feature race: White\n",
      "Discrete feature race: Black\n",
      "Discrete feature race: Asian-Pac-Islander\n",
      "Discrete feature race: Amer-Indian-Eskimo\n",
      "Discrete feature race: Other\n",
      "Discrete feature sex: Male\n",
      "Discrete feature sex: Female\n",
      "Continuous feature: capital-gain\n",
      "{'Feature': 'capital-gain', 'Mean Yes': 3937.6798082045816, 'Var Yes': 206931157.7760209, 'Mean No': 148.8938377328507, 'Var No': 876791.795871855}\n",
      "Continuous feature: capital-loss\n",
      "{'Feature': 'capital-loss', 'Mean Yes': 193.75066595631327, 'Var Yes': 351395.3707041601, 'Mean No': 53.44800035313852, 'Var No': 96263.38660916287}\n",
      "Continuous feature: hours-per-week\n",
      "{'Feature': 'hours-per-week', 'Mean Yes': 45.70657964837507, 'Var Yes': 115.26752729959043, 'Mean No': 39.34859186015715, 'Var No': 142.81469807013272}\n",
      "Discrete feature native-country: United-States\n",
      "Discrete feature native-country: Cuba\n",
      "Discrete feature native-country: Jamaica\n",
      "Discrete feature native-country: India\n",
      "Discrete feature native-country: Mexico\n",
      "Discrete feature native-country: Puerto-Rico\n",
      "Discrete feature native-country: Honduras\n",
      "Discrete feature native-country: England\n",
      "Discrete feature native-country: Canada\n",
      "Discrete feature native-country: Germany\n",
      "Discrete feature native-country: Iran\n",
      "Discrete feature native-country: Philippines\n",
      "Discrete feature native-country: Poland\n",
      "Discrete feature native-country: Columbia\n",
      "Discrete feature native-country: Cambodia\n",
      "Discrete feature native-country: Thailand\n",
      "Discrete feature native-country: Ecuador\n",
      "Discrete feature native-country: Laos\n",
      "Discrete feature native-country: Taiwan\n",
      "Discrete feature native-country: Haiti\n",
      "Discrete feature native-country: Portugal\n",
      "Discrete feature native-country: Dominican-Republic\n",
      "Discrete feature native-country: El-Salvador\n",
      "Discrete feature native-country: France\n",
      "Discrete feature native-country: Guatemala\n",
      "Discrete feature native-country: Italy\n",
      "Discrete feature native-country: China\n",
      "Discrete feature native-country: South\n",
      "Discrete feature native-country: Japan\n",
      "Discrete feature native-country: Yugoslavia\n",
      "Discrete feature native-country: Peru\n",
      "Discrete feature native-country: Outlying-US(Guam-USVI-etc)\n",
      "Discrete feature native-country: Scotland\n",
      "Discrete feature native-country: Trinadad&Tobago\n",
      "Discrete feature native-country: Greece\n",
      "Discrete feature native-country: Nicaragua\n",
      "Discrete feature native-country: Vietnam\n",
      "Discrete feature native-country: Hong\n",
      "Discrete feature native-country: Ireland\n",
      "Discrete feature native-country: Hungary\n",
      "Discrete feature native-country: Holand-Netherlands\n"
     ]
    },
    {
     "data": {
      "text/plain": "           Feature               Value  >50K likelihood  <=50K likelihood\n0        workclass           State-gov         0.045818          0.041273\n1        workclass    Self-emp-not-inc         0.095099          0.078794\n2        workclass             Private         0.649441          0.768518\n3        workclass         Federal-gov         0.048615          0.025514\n4        workclass           Local-gov         0.081113          0.064359\n..             ...                 ...              ...               ...\n93  native-country             Vietnam         0.000666          0.002604\n94  native-country                Hong         0.000799          0.000574\n95  native-country             Ireland         0.000666          0.000839\n96  native-country             Hungary         0.000400          0.000441\n97  native-country  Holand-Netherlands         0.000000          0.000044\n\n[98 rows x 4 columns]",
      "text/html": "<div>\n<style scoped>\n    .dataframe tbody tr th:only-of-type {\n        vertical-align: middle;\n    }\n\n    .dataframe tbody tr th {\n        vertical-align: top;\n    }\n\n    .dataframe thead th {\n        text-align: right;\n    }\n</style>\n<table border=\"1\" class=\"dataframe\">\n  <thead>\n    <tr style=\"text-align: right;\">\n      <th></th>\n      <th>Feature</th>\n      <th>Value</th>\n      <th>&gt;50K likelihood</th>\n      <th>&lt;=50K likelihood</th>\n    </tr>\n  </thead>\n  <tbody>\n    <tr>\n      <th>0</th>\n      <td>workclass</td>\n      <td>State-gov</td>\n      <td>0.045818</td>\n      <td>0.041273</td>\n    </tr>\n    <tr>\n      <th>1</th>\n      <td>workclass</td>\n      <td>Self-emp-not-inc</td>\n      <td>0.095099</td>\n      <td>0.078794</td>\n    </tr>\n    <tr>\n      <th>2</th>\n      <td>workclass</td>\n      <td>Private</td>\n      <td>0.649441</td>\n      <td>0.768518</td>\n    </tr>\n    <tr>\n      <th>3</th>\n      <td>workclass</td>\n      <td>Federal-gov</td>\n      <td>0.048615</td>\n      <td>0.025514</td>\n    </tr>\n    <tr>\n      <th>4</th>\n      <td>workclass</td>\n      <td>Local-gov</td>\n      <td>0.081113</td>\n      <td>0.064359</td>\n    </tr>\n    <tr>\n      <th>...</th>\n      <td>...</td>\n      <td>...</td>\n      <td>...</td>\n      <td>...</td>\n    </tr>\n    <tr>\n      <th>93</th>\n      <td>native-country</td>\n      <td>Vietnam</td>\n      <td>0.000666</td>\n      <td>0.002604</td>\n    </tr>\n    <tr>\n      <th>94</th>\n      <td>native-country</td>\n      <td>Hong</td>\n      <td>0.000799</td>\n      <td>0.000574</td>\n    </tr>\n    <tr>\n      <th>95</th>\n      <td>native-country</td>\n      <td>Ireland</td>\n      <td>0.000666</td>\n      <td>0.000839</td>\n    </tr>\n    <tr>\n      <th>96</th>\n      <td>native-country</td>\n      <td>Hungary</td>\n      <td>0.000400</td>\n      <td>0.000441</td>\n    </tr>\n    <tr>\n      <th>97</th>\n      <td>native-country</td>\n      <td>Holand-Netherlands</td>\n      <td>0.000000</td>\n      <td>0.000044</td>\n    </tr>\n  </tbody>\n</table>\n<p>98 rows × 4 columns</p>\n</div>"
     },
     "execution_count": 14,
     "metadata": {},
     "output_type": "execute_result"
    }
   ],
   "source": [
    "for feature in cols:\n",
    "    if feature in categorical:\n",
    "        for value in df[feature].unique().tolist():\n",
    "            print('Discrete feature {}: {}'.format(feature, value))\n",
    "            vals_disc = {'Feature': feature, 'Value': value,\n",
    "                    '>50K likelihood': len(df[(df[feature] == value) & (df['income'] == '>50K')]) / len(\n",
    "                        df[df['income'] == '>50K']),\n",
    "                    '<=50K likelihood': len(df[(df[feature] == value) & (df['income'] == '<=50K')]) / len(\n",
    "                        df[df['income'] == '<=50K'])}\n",
    "            likelihood_cat.loc[len(likelihood_cat)] = vals_disc\n",
    "        \n",
    "    elif feature in continuous:\n",
    "        print('Continuous feature: {}'.format(feature))\n",
    "        yes_vals = df.query(\"income == '>50K'\")[feature]\n",
    "        no_vals = df.query(\"income == '<=50K'\")[feature]\n",
    "        yes_mean = np.mean(yes_vals)\n",
    "        no_mean = np.mean(no_vals)\n",
    "        yes_var = np.var(yes_vals)\n",
    "        no_var = np.var(no_vals)\n",
    "\n",
    "        vals = {'Feature': feature, 'Mean Yes': yes_mean, 'Var Yes': yes_var, 'Mean No': no_mean, 'Var No': no_var}\n",
    "        print(vals)\n",
    "        likelihood_con.loc[len(likelihood_con)] = vals\n",
    "\n",
    "likelihood_cat"
   ],
   "metadata": {
    "collapsed": false,
    "ExecuteTime": {
     "end_time": "2024-04-15T17:40:47.304707200Z",
     "start_time": "2024-04-15T17:40:45.714706100Z"
    }
   },
   "id": "b780e5c8d15a15c7",
   "execution_count": 14
  },
  {
   "cell_type": "code",
   "outputs": [
    {
     "data": {
      "text/plain": "          Feature     Mean Yes       Var Yes     Mean No         Var No\n0             age    43.959110  1.054513e+02   36.608060     181.288292\n1   education_num    11.606420  5.608680e+00    9.629116       5.825189\n2    capital-gain  3937.679808  2.069312e+08  148.893838  876791.795872\n3    capital-loss   193.750666  3.513954e+05   53.448000   96263.386609\n4  hours-per-week    45.706580  1.152675e+02   39.348592     142.814698",
      "text/html": "<div>\n<style scoped>\n    .dataframe tbody tr th:only-of-type {\n        vertical-align: middle;\n    }\n\n    .dataframe tbody tr th {\n        vertical-align: top;\n    }\n\n    .dataframe thead th {\n        text-align: right;\n    }\n</style>\n<table border=\"1\" class=\"dataframe\">\n  <thead>\n    <tr style=\"text-align: right;\">\n      <th></th>\n      <th>Feature</th>\n      <th>Mean Yes</th>\n      <th>Var Yes</th>\n      <th>Mean No</th>\n      <th>Var No</th>\n    </tr>\n  </thead>\n  <tbody>\n    <tr>\n      <th>0</th>\n      <td>age</td>\n      <td>43.959110</td>\n      <td>1.054513e+02</td>\n      <td>36.608060</td>\n      <td>181.288292</td>\n    </tr>\n    <tr>\n      <th>1</th>\n      <td>education_num</td>\n      <td>11.606420</td>\n      <td>5.608680e+00</td>\n      <td>9.629116</td>\n      <td>5.825189</td>\n    </tr>\n    <tr>\n      <th>2</th>\n      <td>capital-gain</td>\n      <td>3937.679808</td>\n      <td>2.069312e+08</td>\n      <td>148.893838</td>\n      <td>876791.795872</td>\n    </tr>\n    <tr>\n      <th>3</th>\n      <td>capital-loss</td>\n      <td>193.750666</td>\n      <td>3.513954e+05</td>\n      <td>53.448000</td>\n      <td>96263.386609</td>\n    </tr>\n    <tr>\n      <th>4</th>\n      <td>hours-per-week</td>\n      <td>45.706580</td>\n      <td>1.152675e+02</td>\n      <td>39.348592</td>\n      <td>142.814698</td>\n    </tr>\n  </tbody>\n</table>\n</div>"
     },
     "execution_count": 15,
     "metadata": {},
     "output_type": "execute_result"
    }
   ],
   "source": [
    "likelihood_con"
   ],
   "metadata": {
    "collapsed": false,
    "ExecuteTime": {
     "end_time": "2024-04-15T17:40:47.323705700Z",
     "start_time": "2024-04-15T17:40:47.302707500Z"
    }
   },
   "id": "328fc27249e4a278",
   "execution_count": 15
  },
  {
   "cell_type": "markdown",
   "source": [
    "# 3. Testing the Classifier\n",
    "\n",
    "Using the test file given, we create a second dataframe. "
   ],
   "metadata": {
    "collapsed": false
   },
   "id": "df499f86caa8776a"
  },
  {
   "cell_type": "code",
   "outputs": [
    {
     "name": "stdout",
     "output_type": "stream",
     "text": [
      "<class 'pandas.core.frame.DataFrame'>\n",
      "RangeIndex: 16281 entries, 0 to 16280\n",
      "Data columns (total 15 columns):\n",
      " #   Column          Non-Null Count  Dtype \n",
      "---  ------          --------------  ----- \n",
      " 0   age             16281 non-null  object\n",
      " 1   workclass       15318 non-null  object\n",
      " 2   fnlwgt          16281 non-null  object\n",
      " 3   education       16281 non-null  object\n",
      " 4   education_num   16281 non-null  object\n",
      " 5   marital-status  16281 non-null  object\n",
      " 6   occupation      15315 non-null  object\n",
      " 7   relationship    16281 non-null  object\n",
      " 8   race            16281 non-null  object\n",
      " 9   sex             16281 non-null  object\n",
      " 10  capital-gain    16281 non-null  object\n",
      " 11  capital-loss    16281 non-null  object\n",
      " 12  hours-per-week  16281 non-null  object\n",
      " 13  native-country  16007 non-null  object\n",
      " 14  income          16281 non-null  object\n",
      "dtypes: object(15)\n",
      "memory usage: 1.9+ MB\n"
     ]
    }
   ],
   "source": [
    "test_df = pd.read_csv('adult.test', sep = ' ', header = None, names = ['age', 'workclass', 'fnlwgt', 'education', 'education_num', 'marital-status', 'occupation', 'relationship', 'race', 'sex', 'capital-gain', 'capital-loss', 'hours-per-week', 'native-country', 'income'], na_values = '?')\n",
    "\n",
    "test_df.replace(',', '', regex=True, inplace=True)\n",
    "test_df = test_df.replace('?', np.NaN)\n",
    "\n",
    "test_df.info()"
   ],
   "metadata": {
    "collapsed": false,
    "ExecuteTime": {
     "end_time": "2024-04-15T17:40:47.568706400Z",
     "start_time": "2024-04-15T17:40:47.320705900Z"
    }
   },
   "id": "c4245d991f4f0e98",
   "execution_count": 16
  },
  {
   "cell_type": "code",
   "outputs": [
    {
     "data": {
      "text/plain": "  age  workclass  fnlwgt     education education_num      marital-status  \\\n0  25    Private  226802          11th             7       Never-married   \n1  38    Private   89814       HS-grad             9  Married-civ-spouse   \n2  28  Local-gov  336951    Assoc-acdm            12  Married-civ-spouse   \n3  44    Private  160323  Some-college            10  Married-civ-spouse   \n4  18        NaN  103497  Some-college            10       Never-married   \n\n          occupation relationship   race     sex capital-gain capital-loss  \\\n0  Machine-op-inspct    Own-child  Black    Male            0            0   \n1    Farming-fishing      Husband  White    Male            0            0   \n2    Protective-serv      Husband  White    Male            0            0   \n3  Machine-op-inspct      Husband  Black    Male         7688            0   \n4                NaN    Own-child  White  Female            0            0   \n\n  hours-per-week native-country  income  \n0             40  United-States  <=50K.  \n1             50  United-States  <=50K.  \n2             40  United-States   >50K.  \n3             40  United-States   >50K.  \n4             30  United-States  <=50K.  ",
      "text/html": "<div>\n<style scoped>\n    .dataframe tbody tr th:only-of-type {\n        vertical-align: middle;\n    }\n\n    .dataframe tbody tr th {\n        vertical-align: top;\n    }\n\n    .dataframe thead th {\n        text-align: right;\n    }\n</style>\n<table border=\"1\" class=\"dataframe\">\n  <thead>\n    <tr style=\"text-align: right;\">\n      <th></th>\n      <th>age</th>\n      <th>workclass</th>\n      <th>fnlwgt</th>\n      <th>education</th>\n      <th>education_num</th>\n      <th>marital-status</th>\n      <th>occupation</th>\n      <th>relationship</th>\n      <th>race</th>\n      <th>sex</th>\n      <th>capital-gain</th>\n      <th>capital-loss</th>\n      <th>hours-per-week</th>\n      <th>native-country</th>\n      <th>income</th>\n    </tr>\n  </thead>\n  <tbody>\n    <tr>\n      <th>0</th>\n      <td>25</td>\n      <td>Private</td>\n      <td>226802</td>\n      <td>11th</td>\n      <td>7</td>\n      <td>Never-married</td>\n      <td>Machine-op-inspct</td>\n      <td>Own-child</td>\n      <td>Black</td>\n      <td>Male</td>\n      <td>0</td>\n      <td>0</td>\n      <td>40</td>\n      <td>United-States</td>\n      <td>&lt;=50K.</td>\n    </tr>\n    <tr>\n      <th>1</th>\n      <td>38</td>\n      <td>Private</td>\n      <td>89814</td>\n      <td>HS-grad</td>\n      <td>9</td>\n      <td>Married-civ-spouse</td>\n      <td>Farming-fishing</td>\n      <td>Husband</td>\n      <td>White</td>\n      <td>Male</td>\n      <td>0</td>\n      <td>0</td>\n      <td>50</td>\n      <td>United-States</td>\n      <td>&lt;=50K.</td>\n    </tr>\n    <tr>\n      <th>2</th>\n      <td>28</td>\n      <td>Local-gov</td>\n      <td>336951</td>\n      <td>Assoc-acdm</td>\n      <td>12</td>\n      <td>Married-civ-spouse</td>\n      <td>Protective-serv</td>\n      <td>Husband</td>\n      <td>White</td>\n      <td>Male</td>\n      <td>0</td>\n      <td>0</td>\n      <td>40</td>\n      <td>United-States</td>\n      <td>&gt;50K.</td>\n    </tr>\n    <tr>\n      <th>3</th>\n      <td>44</td>\n      <td>Private</td>\n      <td>160323</td>\n      <td>Some-college</td>\n      <td>10</td>\n      <td>Married-civ-spouse</td>\n      <td>Machine-op-inspct</td>\n      <td>Husband</td>\n      <td>Black</td>\n      <td>Male</td>\n      <td>7688</td>\n      <td>0</td>\n      <td>40</td>\n      <td>United-States</td>\n      <td>&gt;50K.</td>\n    </tr>\n    <tr>\n      <th>4</th>\n      <td>18</td>\n      <td>NaN</td>\n      <td>103497</td>\n      <td>Some-college</td>\n      <td>10</td>\n      <td>Never-married</td>\n      <td>NaN</td>\n      <td>Own-child</td>\n      <td>White</td>\n      <td>Female</td>\n      <td>0</td>\n      <td>0</td>\n      <td>30</td>\n      <td>United-States</td>\n      <td>&lt;=50K.</td>\n    </tr>\n  </tbody>\n</table>\n</div>"
     },
     "execution_count": 17,
     "metadata": {},
     "output_type": "execute_result"
    }
   ],
   "source": [
    "test_df.head()"
   ],
   "metadata": {
    "collapsed": false,
    "ExecuteTime": {
     "end_time": "2024-04-15T17:40:47.598705900Z",
     "start_time": "2024-04-15T17:40:47.570711Z"
    }
   },
   "id": "380edff31724e2a6",
   "execution_count": 17
  },
  {
   "cell_type": "code",
   "outputs": [],
   "source": [
    "test_df = test_df.drop('fnlwgt', axis = 1)\n",
    "test_df.dropna(inplace = True, ignore_index = True)"
   ],
   "metadata": {
    "collapsed": false,
    "ExecuteTime": {
     "end_time": "2024-04-15T17:40:47.664705300Z",
     "start_time": "2024-04-15T17:40:47.585715800Z"
    }
   },
   "id": "89138de025149ae9",
   "execution_count": 18
  },
  {
   "cell_type": "code",
   "outputs": [],
   "source": [
    "test_df[continuous] = test_df[continuous].astype(int)"
   ],
   "metadata": {
    "collapsed": false,
    "ExecuteTime": {
     "end_time": "2024-04-15T17:40:47.666706600Z",
     "start_time": "2024-04-15T17:40:47.616706600Z"
    }
   },
   "id": "4df01b9ac6d2325d",
   "execution_count": 19
  },
  {
   "cell_type": "code",
   "outputs": [
    {
     "name": "stdout",
     "output_type": "stream",
     "text": [
      "<class 'pandas.core.frame.DataFrame'>\n",
      "RangeIndex: 15060 entries, 0 to 15059\n",
      "Data columns (total 14 columns):\n",
      " #   Column          Non-Null Count  Dtype \n",
      "---  ------          --------------  ----- \n",
      " 0   age             15060 non-null  int32 \n",
      " 1   workclass       15060 non-null  object\n",
      " 2   education       15060 non-null  object\n",
      " 3   education_num   15060 non-null  int32 \n",
      " 4   marital-status  15060 non-null  object\n",
      " 5   occupation      15060 non-null  object\n",
      " 6   relationship    15060 non-null  object\n",
      " 7   race            15060 non-null  object\n",
      " 8   sex             15060 non-null  object\n",
      " 9   capital-gain    15060 non-null  int32 \n",
      " 10  capital-loss    15060 non-null  int32 \n",
      " 11  hours-per-week  15060 non-null  int32 \n",
      " 12  native-country  15060 non-null  object\n",
      " 13  income          15060 non-null  object\n",
      "dtypes: int32(5), object(9)\n",
      "memory usage: 1.3+ MB\n"
     ]
    }
   ],
   "source": [
    "test_df.info()"
   ],
   "metadata": {
    "collapsed": false,
    "ExecuteTime": {
     "end_time": "2024-04-15T17:40:47.667705700Z",
     "start_time": "2024-04-15T17:40:47.635706800Z"
    }
   },
   "id": "6261344ac3df1c0",
   "execution_count": 20
  },
  {
   "cell_type": "code",
   "outputs": [
    {
     "data": {
      "text/plain": "       age     workclass     education  education_num      marital-status  \\\n0       25       Private          11th              7       Never-married   \n1       38       Private       HS-grad              9  Married-civ-spouse   \n2       28     Local-gov    Assoc-acdm             12  Married-civ-spouse   \n3       44       Private  Some-college             10  Married-civ-spouse   \n4       34       Private          10th              6       Never-married   \n...    ...           ...           ...            ...                 ...   \n15055   33       Private     Bachelors             13       Never-married   \n15056   39       Private     Bachelors             13            Divorced   \n15057   38       Private     Bachelors             13  Married-civ-spouse   \n15058   44       Private     Bachelors             13            Divorced   \n15059   35  Self-emp-inc     Bachelors             13  Married-civ-spouse   \n\n              occupation   relationship                race     sex  \\\n0      Machine-op-inspct      Own-child               Black    Male   \n1        Farming-fishing        Husband               White    Male   \n2        Protective-serv        Husband               White    Male   \n3      Machine-op-inspct        Husband               Black    Male   \n4          Other-service  Not-in-family               White    Male   \n...                  ...            ...                 ...     ...   \n15055     Prof-specialty      Own-child               White    Male   \n15056     Prof-specialty  Not-in-family               White  Female   \n15057     Prof-specialty        Husband               White    Male   \n15058       Adm-clerical      Own-child  Asian-Pac-Islander    Male   \n15059    Exec-managerial        Husband               White    Male   \n\n       capital-gain  capital-loss  hours-per-week native-country  income  \n0                 0             0              40  United-States  <=50K.  \n1                 0             0              50  United-States  <=50K.  \n2                 0             0              40  United-States   >50K.  \n3              7688             0              40  United-States   >50K.  \n4                 0             0              30  United-States  <=50K.  \n...             ...           ...             ...            ...     ...  \n15055             0             0              40  United-States  <=50K.  \n15056             0             0              36  United-States  <=50K.  \n15057             0             0              50  United-States  <=50K.  \n15058          5455             0              40  United-States  <=50K.  \n15059             0             0              60  United-States   >50K.  \n\n[15060 rows x 14 columns]",
      "text/html": "<div>\n<style scoped>\n    .dataframe tbody tr th:only-of-type {\n        vertical-align: middle;\n    }\n\n    .dataframe tbody tr th {\n        vertical-align: top;\n    }\n\n    .dataframe thead th {\n        text-align: right;\n    }\n</style>\n<table border=\"1\" class=\"dataframe\">\n  <thead>\n    <tr style=\"text-align: right;\">\n      <th></th>\n      <th>age</th>\n      <th>workclass</th>\n      <th>education</th>\n      <th>education_num</th>\n      <th>marital-status</th>\n      <th>occupation</th>\n      <th>relationship</th>\n      <th>race</th>\n      <th>sex</th>\n      <th>capital-gain</th>\n      <th>capital-loss</th>\n      <th>hours-per-week</th>\n      <th>native-country</th>\n      <th>income</th>\n    </tr>\n  </thead>\n  <tbody>\n    <tr>\n      <th>0</th>\n      <td>25</td>\n      <td>Private</td>\n      <td>11th</td>\n      <td>7</td>\n      <td>Never-married</td>\n      <td>Machine-op-inspct</td>\n      <td>Own-child</td>\n      <td>Black</td>\n      <td>Male</td>\n      <td>0</td>\n      <td>0</td>\n      <td>40</td>\n      <td>United-States</td>\n      <td>&lt;=50K.</td>\n    </tr>\n    <tr>\n      <th>1</th>\n      <td>38</td>\n      <td>Private</td>\n      <td>HS-grad</td>\n      <td>9</td>\n      <td>Married-civ-spouse</td>\n      <td>Farming-fishing</td>\n      <td>Husband</td>\n      <td>White</td>\n      <td>Male</td>\n      <td>0</td>\n      <td>0</td>\n      <td>50</td>\n      <td>United-States</td>\n      <td>&lt;=50K.</td>\n    </tr>\n    <tr>\n      <th>2</th>\n      <td>28</td>\n      <td>Local-gov</td>\n      <td>Assoc-acdm</td>\n      <td>12</td>\n      <td>Married-civ-spouse</td>\n      <td>Protective-serv</td>\n      <td>Husband</td>\n      <td>White</td>\n      <td>Male</td>\n      <td>0</td>\n      <td>0</td>\n      <td>40</td>\n      <td>United-States</td>\n      <td>&gt;50K.</td>\n    </tr>\n    <tr>\n      <th>3</th>\n      <td>44</td>\n      <td>Private</td>\n      <td>Some-college</td>\n      <td>10</td>\n      <td>Married-civ-spouse</td>\n      <td>Machine-op-inspct</td>\n      <td>Husband</td>\n      <td>Black</td>\n      <td>Male</td>\n      <td>7688</td>\n      <td>0</td>\n      <td>40</td>\n      <td>United-States</td>\n      <td>&gt;50K.</td>\n    </tr>\n    <tr>\n      <th>4</th>\n      <td>34</td>\n      <td>Private</td>\n      <td>10th</td>\n      <td>6</td>\n      <td>Never-married</td>\n      <td>Other-service</td>\n      <td>Not-in-family</td>\n      <td>White</td>\n      <td>Male</td>\n      <td>0</td>\n      <td>0</td>\n      <td>30</td>\n      <td>United-States</td>\n      <td>&lt;=50K.</td>\n    </tr>\n    <tr>\n      <th>...</th>\n      <td>...</td>\n      <td>...</td>\n      <td>...</td>\n      <td>...</td>\n      <td>...</td>\n      <td>...</td>\n      <td>...</td>\n      <td>...</td>\n      <td>...</td>\n      <td>...</td>\n      <td>...</td>\n      <td>...</td>\n      <td>...</td>\n      <td>...</td>\n    </tr>\n    <tr>\n      <th>15055</th>\n      <td>33</td>\n      <td>Private</td>\n      <td>Bachelors</td>\n      <td>13</td>\n      <td>Never-married</td>\n      <td>Prof-specialty</td>\n      <td>Own-child</td>\n      <td>White</td>\n      <td>Male</td>\n      <td>0</td>\n      <td>0</td>\n      <td>40</td>\n      <td>United-States</td>\n      <td>&lt;=50K.</td>\n    </tr>\n    <tr>\n      <th>15056</th>\n      <td>39</td>\n      <td>Private</td>\n      <td>Bachelors</td>\n      <td>13</td>\n      <td>Divorced</td>\n      <td>Prof-specialty</td>\n      <td>Not-in-family</td>\n      <td>White</td>\n      <td>Female</td>\n      <td>0</td>\n      <td>0</td>\n      <td>36</td>\n      <td>United-States</td>\n      <td>&lt;=50K.</td>\n    </tr>\n    <tr>\n      <th>15057</th>\n      <td>38</td>\n      <td>Private</td>\n      <td>Bachelors</td>\n      <td>13</td>\n      <td>Married-civ-spouse</td>\n      <td>Prof-specialty</td>\n      <td>Husband</td>\n      <td>White</td>\n      <td>Male</td>\n      <td>0</td>\n      <td>0</td>\n      <td>50</td>\n      <td>United-States</td>\n      <td>&lt;=50K.</td>\n    </tr>\n    <tr>\n      <th>15058</th>\n      <td>44</td>\n      <td>Private</td>\n      <td>Bachelors</td>\n      <td>13</td>\n      <td>Divorced</td>\n      <td>Adm-clerical</td>\n      <td>Own-child</td>\n      <td>Asian-Pac-Islander</td>\n      <td>Male</td>\n      <td>5455</td>\n      <td>0</td>\n      <td>40</td>\n      <td>United-States</td>\n      <td>&lt;=50K.</td>\n    </tr>\n    <tr>\n      <th>15059</th>\n      <td>35</td>\n      <td>Self-emp-inc</td>\n      <td>Bachelors</td>\n      <td>13</td>\n      <td>Married-civ-spouse</td>\n      <td>Exec-managerial</td>\n      <td>Husband</td>\n      <td>White</td>\n      <td>Male</td>\n      <td>0</td>\n      <td>0</td>\n      <td>60</td>\n      <td>United-States</td>\n      <td>&gt;50K.</td>\n    </tr>\n  </tbody>\n</table>\n<p>15060 rows × 14 columns</p>\n</div>"
     },
     "execution_count": 21,
     "metadata": {},
     "output_type": "execute_result"
    }
   ],
   "source": [
    "test_df"
   ],
   "metadata": {
    "collapsed": false,
    "ExecuteTime": {
     "end_time": "2024-04-15T17:40:47.669706500Z",
     "start_time": "2024-04-15T17:40:47.646706Z"
    }
   },
   "id": "5084cb462c81f7d8",
   "execution_count": 21
  },
  {
   "cell_type": "markdown",
   "source": [
    "Now, as we try to make our predictions, we'll create a new column in the dataframe 'predicted_income'. We'll start by creating a simple list storing the predicted values, then casting them as a Series and then insert that series into the dataframe.\n",
    "\n",
    "To predict the values, we'll do as follows:\n",
    "* Calculate the probability of $y$ being yes/no by multiplying its respective prior to the product of the likelihood of each given feature.\n",
    "* Keep in mind that this is the proportional probability, since we can ignore the probability of the features as it's common in both probabilities."
   ],
   "metadata": {
    "collapsed": false
   },
   "id": "678cdd2edd02b212"
  },
  {
   "cell_type": "code",
   "outputs": [
    {
     "data": {
      "text/plain": "['age',\n 43.95911028236548,\n 105.45131151527511,\n 36.60806038668668,\n 181.28829205321483]"
     },
     "execution_count": 22,
     "metadata": {},
     "output_type": "execute_result"
    }
   ],
   "source": [
    "likelihood_con.query(f\"Feature == 'age'\").values.tolist()[0]"
   ],
   "metadata": {
    "collapsed": false,
    "ExecuteTime": {
     "end_time": "2024-04-15T17:40:47.696705500Z",
     "start_time": "2024-04-15T17:40:47.662706100Z"
    }
   },
   "id": "9f6174043f631d38",
   "execution_count": 22
  },
  {
   "cell_type": "code",
   "outputs": [
    {
     "data": {
      "text/plain": "[['sex', 'Female', 0.148108684070325, 0.3827138695153174]]"
     },
     "execution_count": 23,
     "metadata": {},
     "output_type": "execute_result"
    }
   ],
   "source": [
    "likelihood_cat.query(f\"Value == 'Female' and Feature == 'sex'\").values.tolist()"
   ],
   "metadata": {
    "collapsed": false,
    "ExecuteTime": {
     "end_time": "2024-04-15T17:40:47.745706200Z",
     "start_time": "2024-04-15T17:40:47.680706500Z"
    }
   },
   "id": "56cfba2c288cd2b1",
   "execution_count": 23
  },
  {
   "cell_type": "code",
   "outputs": [],
   "source": [
    "preds = np.zeros(len(test_df))\n",
    "\n",
    "for i in range(len(test_df)):\n",
    "    prod_yes = prior['yes']\n",
    "    prod_no = prior['no']\n",
    "\n",
    "    for feature in cols:\n",
    "        if feature in categorical:\n",
    "            value = test_df.loc[i, feature]\n",
    "            \n",
    "            likelihoods = likelihood_cat.query(f\"Value == '{value}' and Feature == '{feature}'\").values.tolist()[0]\n",
    "            yes_likelihood = float(likelihoods[2])\n",
    "            no_likelihood = float(likelihoods[3])\n",
    "      \n",
    "            prod_yes = prod_yes * yes_likelihood\n",
    "            prod_no = prod_no * no_likelihood\n",
    "   \n",
    "        elif feature in continuous:\n",
    "            value = test_df.loc[i, feature]\n",
    "            \n",
    "            stats = likelihood_con.query(f\"Feature == '{feature}'\").values.tolist()[0]\n",
    "            \n",
    "            yes_likelihood = (1 / np.sqrt(2 * np.pi * stats[2])) * np.exp(-(value - stats[1]) ** 2 / (2 * stats[2]))\n",
    "            no_likelihood = (1 / np.sqrt(2 * np.pi * stats[4])) * np.exp(-(value - stats[3]) ** 2 / (2 * stats[4]))\n",
    "            \n",
    "            prod_yes = prod_yes * yes_likelihood\n",
    "            prod_no = prod_no * no_likelihood\n",
    "            \n",
    "            \n",
    "    # Normalize\n",
    "    prob_yes = prod_yes / (prod_yes + prod_no)\n",
    "    prob_no = prod_no / (prod_yes + prod_no)\n",
    "    \n",
    "    preds[i] = 1 if (prob_yes > prob_no) else 0"
   ],
   "metadata": {
    "collapsed": false,
    "ExecuteTime": {
     "end_time": "2024-04-15T17:45:23.057173400Z",
     "start_time": "2024-04-15T17:40:47.699706700Z"
    }
   },
   "id": "f8ce1a8b4de26b67",
   "execution_count": 24
  },
  {
   "cell_type": "code",
   "outputs": [],
   "source": [
    "predictions = pd.Series(preds)\n",
    "\n",
    "test_df.insert(14, column=\"Prediction\", value=predictions)"
   ],
   "metadata": {
    "collapsed": false,
    "ExecuteTime": {
     "end_time": "2024-04-15T17:45:23.076172500Z",
     "start_time": "2024-04-15T17:45:23.058173900Z"
    }
   },
   "id": "36c5052e3a7b8cc9",
   "execution_count": 25
  },
  {
   "cell_type": "code",
   "outputs": [],
   "source": [
    "test_df.replace(0.0, '<=50K', regex = True, inplace = True)\n",
    "test_df.replace(1.0, '>50K', regex = True, inplace = True)"
   ],
   "metadata": {
    "collapsed": false,
    "ExecuteTime": {
     "end_time": "2024-04-15T17:45:23.105173400Z",
     "start_time": "2024-04-15T17:45:23.074172200Z"
    }
   },
   "id": "a9f801f7206e9f11",
   "execution_count": 26
  },
  {
   "cell_type": "code",
   "outputs": [
    {
     "data": {
      "text/plain": "       age     workclass     education education_num      marital-status  \\\n0       25       Private          11th             7       Never-married   \n1       38       Private       HS-grad             9  Married-civ-spouse   \n2       28     Local-gov    Assoc-acdm            12  Married-civ-spouse   \n3       44       Private  Some-college            10  Married-civ-spouse   \n4       34       Private          10th             6       Never-married   \n...    ...           ...           ...           ...                 ...   \n15055   33       Private     Bachelors            13       Never-married   \n15056   39       Private     Bachelors            13            Divorced   \n15057   38       Private     Bachelors            13  Married-civ-spouse   \n15058   44       Private     Bachelors            13            Divorced   \n15059   35  Self-emp-inc     Bachelors            13  Married-civ-spouse   \n\n              occupation   relationship                race     sex  \\\n0      Machine-op-inspct      Own-child               Black    Male   \n1        Farming-fishing        Husband               White    Male   \n2        Protective-serv        Husband               White    Male   \n3      Machine-op-inspct        Husband               Black    Male   \n4          Other-service  Not-in-family               White    Male   \n...                  ...            ...                 ...     ...   \n15055     Prof-specialty      Own-child               White    Male   \n15056     Prof-specialty  Not-in-family               White  Female   \n15057     Prof-specialty        Husband               White    Male   \n15058       Adm-clerical      Own-child  Asian-Pac-Islander    Male   \n15059    Exec-managerial        Husband               White    Male   \n\n      capital-gain capital-loss hours-per-week native-country  income  \\\n0            <=50K        <=50K             40  United-States  <=50K.   \n1            <=50K        <=50K             50  United-States  <=50K.   \n2            <=50K        <=50K             40  United-States   >50K.   \n3             7688        <=50K             40  United-States   >50K.   \n4            <=50K        <=50K             30  United-States  <=50K.   \n...            ...          ...            ...            ...     ...   \n15055        <=50K        <=50K             40  United-States  <=50K.   \n15056        <=50K        <=50K             36  United-States  <=50K.   \n15057        <=50K        <=50K             50  United-States  <=50K.   \n15058         5455        <=50K             40  United-States  <=50K.   \n15059        <=50K        <=50K             60  United-States   >50K.   \n\n      Prediction  \n0          <=50K  \n1          <=50K  \n2          <=50K  \n3           >50K  \n4          <=50K  \n...          ...  \n15055      <=50K  \n15056      <=50K  \n15057       >50K  \n15058       >50K  \n15059       >50K  \n\n[15060 rows x 15 columns]",
      "text/html": "<div>\n<style scoped>\n    .dataframe tbody tr th:only-of-type {\n        vertical-align: middle;\n    }\n\n    .dataframe tbody tr th {\n        vertical-align: top;\n    }\n\n    .dataframe thead th {\n        text-align: right;\n    }\n</style>\n<table border=\"1\" class=\"dataframe\">\n  <thead>\n    <tr style=\"text-align: right;\">\n      <th></th>\n      <th>age</th>\n      <th>workclass</th>\n      <th>education</th>\n      <th>education_num</th>\n      <th>marital-status</th>\n      <th>occupation</th>\n      <th>relationship</th>\n      <th>race</th>\n      <th>sex</th>\n      <th>capital-gain</th>\n      <th>capital-loss</th>\n      <th>hours-per-week</th>\n      <th>native-country</th>\n      <th>income</th>\n      <th>Prediction</th>\n    </tr>\n  </thead>\n  <tbody>\n    <tr>\n      <th>0</th>\n      <td>25</td>\n      <td>Private</td>\n      <td>11th</td>\n      <td>7</td>\n      <td>Never-married</td>\n      <td>Machine-op-inspct</td>\n      <td>Own-child</td>\n      <td>Black</td>\n      <td>Male</td>\n      <td>&lt;=50K</td>\n      <td>&lt;=50K</td>\n      <td>40</td>\n      <td>United-States</td>\n      <td>&lt;=50K.</td>\n      <td>&lt;=50K</td>\n    </tr>\n    <tr>\n      <th>1</th>\n      <td>38</td>\n      <td>Private</td>\n      <td>HS-grad</td>\n      <td>9</td>\n      <td>Married-civ-spouse</td>\n      <td>Farming-fishing</td>\n      <td>Husband</td>\n      <td>White</td>\n      <td>Male</td>\n      <td>&lt;=50K</td>\n      <td>&lt;=50K</td>\n      <td>50</td>\n      <td>United-States</td>\n      <td>&lt;=50K.</td>\n      <td>&lt;=50K</td>\n    </tr>\n    <tr>\n      <th>2</th>\n      <td>28</td>\n      <td>Local-gov</td>\n      <td>Assoc-acdm</td>\n      <td>12</td>\n      <td>Married-civ-spouse</td>\n      <td>Protective-serv</td>\n      <td>Husband</td>\n      <td>White</td>\n      <td>Male</td>\n      <td>&lt;=50K</td>\n      <td>&lt;=50K</td>\n      <td>40</td>\n      <td>United-States</td>\n      <td>&gt;50K.</td>\n      <td>&lt;=50K</td>\n    </tr>\n    <tr>\n      <th>3</th>\n      <td>44</td>\n      <td>Private</td>\n      <td>Some-college</td>\n      <td>10</td>\n      <td>Married-civ-spouse</td>\n      <td>Machine-op-inspct</td>\n      <td>Husband</td>\n      <td>Black</td>\n      <td>Male</td>\n      <td>7688</td>\n      <td>&lt;=50K</td>\n      <td>40</td>\n      <td>United-States</td>\n      <td>&gt;50K.</td>\n      <td>&gt;50K</td>\n    </tr>\n    <tr>\n      <th>4</th>\n      <td>34</td>\n      <td>Private</td>\n      <td>10th</td>\n      <td>6</td>\n      <td>Never-married</td>\n      <td>Other-service</td>\n      <td>Not-in-family</td>\n      <td>White</td>\n      <td>Male</td>\n      <td>&lt;=50K</td>\n      <td>&lt;=50K</td>\n      <td>30</td>\n      <td>United-States</td>\n      <td>&lt;=50K.</td>\n      <td>&lt;=50K</td>\n    </tr>\n    <tr>\n      <th>...</th>\n      <td>...</td>\n      <td>...</td>\n      <td>...</td>\n      <td>...</td>\n      <td>...</td>\n      <td>...</td>\n      <td>...</td>\n      <td>...</td>\n      <td>...</td>\n      <td>...</td>\n      <td>...</td>\n      <td>...</td>\n      <td>...</td>\n      <td>...</td>\n      <td>...</td>\n    </tr>\n    <tr>\n      <th>15055</th>\n      <td>33</td>\n      <td>Private</td>\n      <td>Bachelors</td>\n      <td>13</td>\n      <td>Never-married</td>\n      <td>Prof-specialty</td>\n      <td>Own-child</td>\n      <td>White</td>\n      <td>Male</td>\n      <td>&lt;=50K</td>\n      <td>&lt;=50K</td>\n      <td>40</td>\n      <td>United-States</td>\n      <td>&lt;=50K.</td>\n      <td>&lt;=50K</td>\n    </tr>\n    <tr>\n      <th>15056</th>\n      <td>39</td>\n      <td>Private</td>\n      <td>Bachelors</td>\n      <td>13</td>\n      <td>Divorced</td>\n      <td>Prof-specialty</td>\n      <td>Not-in-family</td>\n      <td>White</td>\n      <td>Female</td>\n      <td>&lt;=50K</td>\n      <td>&lt;=50K</td>\n      <td>36</td>\n      <td>United-States</td>\n      <td>&lt;=50K.</td>\n      <td>&lt;=50K</td>\n    </tr>\n    <tr>\n      <th>15057</th>\n      <td>38</td>\n      <td>Private</td>\n      <td>Bachelors</td>\n      <td>13</td>\n      <td>Married-civ-spouse</td>\n      <td>Prof-specialty</td>\n      <td>Husband</td>\n      <td>White</td>\n      <td>Male</td>\n      <td>&lt;=50K</td>\n      <td>&lt;=50K</td>\n      <td>50</td>\n      <td>United-States</td>\n      <td>&lt;=50K.</td>\n      <td>&gt;50K</td>\n    </tr>\n    <tr>\n      <th>15058</th>\n      <td>44</td>\n      <td>Private</td>\n      <td>Bachelors</td>\n      <td>13</td>\n      <td>Divorced</td>\n      <td>Adm-clerical</td>\n      <td>Own-child</td>\n      <td>Asian-Pac-Islander</td>\n      <td>Male</td>\n      <td>5455</td>\n      <td>&lt;=50K</td>\n      <td>40</td>\n      <td>United-States</td>\n      <td>&lt;=50K.</td>\n      <td>&gt;50K</td>\n    </tr>\n    <tr>\n      <th>15059</th>\n      <td>35</td>\n      <td>Self-emp-inc</td>\n      <td>Bachelors</td>\n      <td>13</td>\n      <td>Married-civ-spouse</td>\n      <td>Exec-managerial</td>\n      <td>Husband</td>\n      <td>White</td>\n      <td>Male</td>\n      <td>&lt;=50K</td>\n      <td>&lt;=50K</td>\n      <td>60</td>\n      <td>United-States</td>\n      <td>&gt;50K.</td>\n      <td>&gt;50K</td>\n    </tr>\n  </tbody>\n</table>\n<p>15060 rows × 15 columns</p>\n</div>"
     },
     "execution_count": 27,
     "metadata": {},
     "output_type": "execute_result"
    }
   ],
   "source": [
    "test_df"
   ],
   "metadata": {
    "collapsed": false,
    "ExecuteTime": {
     "end_time": "2024-04-15T17:45:23.122173800Z",
     "start_time": "2024-04-15T17:45:23.110172800Z"
    }
   },
   "id": "ac45529cf736db92",
   "execution_count": 27
  },
  {
   "cell_type": "code",
   "outputs": [
    {
     "data": {
      "text/plain": "Prediction  <=50K  >50K\nActual                 \n<=50K.      10549   811\n>50K.        1832  1868",
      "text/html": "<div>\n<style scoped>\n    .dataframe tbody tr th:only-of-type {\n        vertical-align: middle;\n    }\n\n    .dataframe tbody tr th {\n        vertical-align: top;\n    }\n\n    .dataframe thead th {\n        text-align: right;\n    }\n</style>\n<table border=\"1\" class=\"dataframe\">\n  <thead>\n    <tr style=\"text-align: right;\">\n      <th>Prediction</th>\n      <th>&lt;=50K</th>\n      <th>&gt;50K</th>\n    </tr>\n    <tr>\n      <th>Actual</th>\n      <th></th>\n      <th></th>\n    </tr>\n  </thead>\n  <tbody>\n    <tr>\n      <th>&lt;=50K.</th>\n      <td>10549</td>\n      <td>811</td>\n    </tr>\n    <tr>\n      <th>&gt;50K.</th>\n      <td>1832</td>\n      <td>1868</td>\n    </tr>\n  </tbody>\n</table>\n</div>"
     },
     "execution_count": 28,
     "metadata": {},
     "output_type": "execute_result"
    }
   ],
   "source": [
    "confusion_mtrx = pd.crosstab(test_df['income'], test_df['Prediction'], rownames=['Actual'], colnames=['Prediction'])\n",
    "\n",
    "confusion_mtrx"
   ],
   "metadata": {
    "collapsed": false,
    "ExecuteTime": {
     "end_time": "2024-04-15T17:45:23.172174400Z",
     "start_time": "2024-04-15T17:45:23.123172100Z"
    }
   },
   "id": "32e650422d451ec8",
   "execution_count": 28
  },
  {
   "cell_type": "code",
   "outputs": [
    {
     "data": {
      "text/plain": "<Axes: xlabel='Prediction', ylabel='Actual'>"
     },
     "execution_count": 29,
     "metadata": {},
     "output_type": "execute_result"
    },
    {
     "data": {
      "text/plain": "<Figure size 640x480 with 2 Axes>",
      "image/png": "[encoded data removed]"
     },
     "metadata": {},
     "output_type": "display_data"
    }
   ],
   "source": [
    "sns.heatmap(confusion_mtrx, cmap = 'Blues', annot = True)"
   ],
   "metadata": {
    "collapsed": false,
    "ExecuteTime": {
     "end_time": "2024-04-15T17:45:23.426172400Z",
     "start_time": "2024-04-15T17:45:23.154172700Z"
    }
   },
   "id": "3d2680ca409eb136",
   "execution_count": 29
  },
  {
   "cell_type": "code",
   "outputs": [
    {
     "name": "stdout",
     "output_type": "stream",
     "text": [
      "TP: 1868, TN: 10549, FP: 1832, FN: 811\n",
      "Sensitivity: 0.6972751026502426, Specificity: 0.9286091549295775 \n",
      "Posterior Probability of Income being >50K: 0.5048648648648648\n"
     ]
    }
   ],
   "source": [
    "TP = confusion_mtrx['>50K'].values.tolist()[1]\n",
    "TN = confusion_mtrx['<=50K'].values.tolist()[0]\n",
    "FP = confusion_mtrx['<=50K'].values.tolist()[1]\n",
    "FN = confusion_mtrx['>50K'].values.tolist()[0]\n",
    "\n",
    "print(f\"TP: {TP}, TN: {TN}, FP: {FP}, FN: {FN}\")\n",
    "\n",
    "sensitivity = TP / (TP + FN)\n",
    "specificity = TN / (TN + FN)\n",
    "\n",
    "posterior = TP / (TP + FP)\n",
    "\n",
    "print(f\"Sensitivity: {sensitivity}, Specificity: {specificity} \\nPosterior Probability of Income being >50K: {posterior}\")"
   ],
   "metadata": {
    "collapsed": false,
    "ExecuteTime": {
     "end_time": "2024-04-15T17:45:23.438173100Z",
     "start_time": "2024-04-15T17:45:23.422172700Z"
    }
   },
   "id": "56c7fbdd0b2490d5",
   "execution_count": 30
  },
  {
   "cell_type": "markdown",
   "source": [
    "# A Different Approach\n",
    "\n",
    "Having implemented the Naive Bayes model from scratch, I wanted to match it against the model offered by scikit-learn. Scikit-learn offers several kinds of Naive Bayes models, including: categorical, used for, intuitively, categorical features, and Gaussian, for continuous variables. Seeing as I had a higher ratio of discrete features, I decided to create a dataframe with only the categorical features and fit the model to them. "
   ],
   "metadata": {
    "collapsed": false
   },
   "id": "7e545466ab99b2b1"
  },
  {
   "cell_type": "code",
   "outputs": [],
   "source": [
    "from sklearn.naive_bayes import CategoricalNB\n",
    "from sklearn.metrics import accuracy_score, classification_report\n",
    "from sklearn.preprocessing import LabelEncoder\n",
    "from sklearn.metrics import confusion_matrix, ConfusionMatrixDisplay"
   ],
   "metadata": {
    "collapsed": false,
    "ExecuteTime": {
     "end_time": "2024-04-15T17:45:23.754172700Z",
     "start_time": "2024-04-15T17:45:23.438173100Z"
    }
   },
   "id": "3fc9bbb181d55772",
   "execution_count": 31
  },
  {
   "cell_type": "code",
   "outputs": [
    {
     "data": {
      "text/plain": "              workclass   education      marital-status         occupation  \\\n0             State-gov   Bachelors       Never-married       Adm-clerical   \n1      Self-emp-not-inc   Bachelors  Married-civ-spouse    Exec-managerial   \n2               Private     HS-grad            Divorced  Handlers-cleaners   \n3               Private        11th  Married-civ-spouse  Handlers-cleaners   \n4               Private   Bachelors  Married-civ-spouse     Prof-specialty   \n...                 ...         ...                 ...                ...   \n32556           Private  Assoc-acdm  Married-civ-spouse       Tech-support   \n32557           Private     HS-grad  Married-civ-spouse  Machine-op-inspct   \n32558           Private     HS-grad             Widowed       Adm-clerical   \n32559           Private     HS-grad       Never-married       Adm-clerical   \n32560      Self-emp-inc     HS-grad  Married-civ-spouse    Exec-managerial   \n\n        relationship   race     sex native-country income  \n0      Not-in-family  White    Male  United-States  <=50K  \n1            Husband  White    Male  United-States  <=50K  \n2      Not-in-family  White    Male  United-States  <=50K  \n3            Husband  Black    Male  United-States  <=50K  \n4               Wife  Black  Female           Cuba  <=50K  \n...              ...    ...     ...            ...    ...  \n32556           Wife  White  Female  United-States  <=50K  \n32557        Husband  White    Male  United-States   >50K  \n32558      Unmarried  White  Female  United-States  <=50K  \n32559      Own-child  White    Male  United-States  <=50K  \n32560           Wife  White  Female  United-States   >50K  \n\n[30162 rows x 9 columns]",
      "text/html": "<div>\n<style scoped>\n    .dataframe tbody tr th:only-of-type {\n        vertical-align: middle;\n    }\n\n    .dataframe tbody tr th {\n        vertical-align: top;\n    }\n\n    .dataframe thead th {\n        text-align: right;\n    }\n</style>\n<table border=\"1\" class=\"dataframe\">\n  <thead>\n    <tr style=\"text-align: right;\">\n      <th></th>\n      <th>workclass</th>\n      <th>education</th>\n      <th>marital-status</th>\n      <th>occupation</th>\n      <th>relationship</th>\n      <th>race</th>\n      <th>sex</th>\n      <th>native-country</th>\n      <th>income</th>\n    </tr>\n  </thead>\n  <tbody>\n    <tr>\n      <th>0</th>\n      <td>State-gov</td>\n      <td>Bachelors</td>\n      <td>Never-married</td>\n      <td>Adm-clerical</td>\n      <td>Not-in-family</td>\n      <td>White</td>\n      <td>Male</td>\n      <td>United-States</td>\n      <td>&lt;=50K</td>\n    </tr>\n    <tr>\n      <th>1</th>\n      <td>Self-emp-not-inc</td>\n      <td>Bachelors</td>\n      <td>Married-civ-spouse</td>\n      <td>Exec-managerial</td>\n      <td>Husband</td>\n      <td>White</td>\n      <td>Male</td>\n      <td>United-States</td>\n      <td>&lt;=50K</td>\n    </tr>\n    <tr>\n      <th>2</th>\n      <td>Private</td>\n      <td>HS-grad</td>\n      <td>Divorced</td>\n      <td>Handlers-cleaners</td>\n      <td>Not-in-family</td>\n      <td>White</td>\n      <td>Male</td>\n      <td>United-States</td>\n      <td>&lt;=50K</td>\n    </tr>\n    <tr>\n      <th>3</th>\n      <td>Private</td>\n      <td>11th</td>\n      <td>Married-civ-spouse</td>\n      <td>Handlers-cleaners</td>\n      <td>Husband</td>\n      <td>Black</td>\n      <td>Male</td>\n      <td>United-States</td>\n      <td>&lt;=50K</td>\n    </tr>\n    <tr>\n      <th>4</th>\n      <td>Private</td>\n      <td>Bachelors</td>\n      <td>Married-civ-spouse</td>\n      <td>Prof-specialty</td>\n      <td>Wife</td>\n      <td>Black</td>\n      <td>Female</td>\n      <td>Cuba</td>\n      <td>&lt;=50K</td>\n    </tr>\n    <tr>\n      <th>...</th>\n      <td>...</td>\n      <td>...</td>\n      <td>...</td>\n      <td>...</td>\n      <td>...</td>\n      <td>...</td>\n      <td>...</td>\n      <td>...</td>\n      <td>...</td>\n    </tr>\n    <tr>\n      <th>32556</th>\n      <td>Private</td>\n      <td>Assoc-acdm</td>\n      <td>Married-civ-spouse</td>\n      <td>Tech-support</td>\n      <td>Wife</td>\n      <td>White</td>\n      <td>Female</td>\n      <td>United-States</td>\n      <td>&lt;=50K</td>\n    </tr>\n    <tr>\n      <th>32557</th>\n      <td>Private</td>\n      <td>HS-grad</td>\n      <td>Married-civ-spouse</td>\n      <td>Machine-op-inspct</td>\n      <td>Husband</td>\n      <td>White</td>\n      <td>Male</td>\n      <td>United-States</td>\n      <td>&gt;50K</td>\n    </tr>\n    <tr>\n      <th>32558</th>\n      <td>Private</td>\n      <td>HS-grad</td>\n      <td>Widowed</td>\n      <td>Adm-clerical</td>\n      <td>Unmarried</td>\n      <td>White</td>\n      <td>Female</td>\n      <td>United-States</td>\n      <td>&lt;=50K</td>\n    </tr>\n    <tr>\n      <th>32559</th>\n      <td>Private</td>\n      <td>HS-grad</td>\n      <td>Never-married</td>\n      <td>Adm-clerical</td>\n      <td>Own-child</td>\n      <td>White</td>\n      <td>Male</td>\n      <td>United-States</td>\n      <td>&lt;=50K</td>\n    </tr>\n    <tr>\n      <th>32560</th>\n      <td>Self-emp-inc</td>\n      <td>HS-grad</td>\n      <td>Married-civ-spouse</td>\n      <td>Exec-managerial</td>\n      <td>Wife</td>\n      <td>White</td>\n      <td>Female</td>\n      <td>United-States</td>\n      <td>&gt;50K</td>\n    </tr>\n  </tbody>\n</table>\n<p>30162 rows × 9 columns</p>\n</div>"
     },
     "execution_count": 32,
     "metadata": {},
     "output_type": "execute_result"
    }
   ],
   "source": [
    "df_model = df.drop(columns=['age', 'education_num', 'capital-gain', 'capital-loss', 'hours-per-week'])\n",
    "\n",
    "df_model"
   ],
   "metadata": {
    "collapsed": false,
    "ExecuteTime": {
     "end_time": "2024-04-15T17:45:23.775175100Z",
     "start_time": "2024-04-15T17:45:23.756173600Z"
    }
   },
   "id": "7f13b3ccd46dd45d",
   "execution_count": 32
  },
  {
   "cell_type": "code",
   "outputs": [
    {
     "data": {
      "text/plain": "          workclass     education      marital-status         occupation  \\\n0           Private          11th       Never-married  Machine-op-inspct   \n1           Private       HS-grad  Married-civ-spouse    Farming-fishing   \n2         Local-gov    Assoc-acdm  Married-civ-spouse    Protective-serv   \n3           Private  Some-college  Married-civ-spouse  Machine-op-inspct   \n4           Private          10th       Never-married      Other-service   \n...             ...           ...                 ...                ...   \n15055       Private     Bachelors       Never-married     Prof-specialty   \n15056       Private     Bachelors            Divorced     Prof-specialty   \n15057       Private     Bachelors  Married-civ-spouse     Prof-specialty   \n15058       Private     Bachelors            Divorced       Adm-clerical   \n15059  Self-emp-inc     Bachelors  Married-civ-spouse    Exec-managerial   \n\n        relationship                race     sex native-country  income  \\\n0          Own-child               Black    Male  United-States  <=50K.   \n1            Husband               White    Male  United-States  <=50K.   \n2            Husband               White    Male  United-States   >50K.   \n3            Husband               Black    Male  United-States   >50K.   \n4      Not-in-family               White    Male  United-States  <=50K.   \n...              ...                 ...     ...            ...     ...   \n15055      Own-child               White    Male  United-States  <=50K.   \n15056  Not-in-family               White  Female  United-States  <=50K.   \n15057        Husband               White    Male  United-States  <=50K.   \n15058      Own-child  Asian-Pac-Islander    Male  United-States  <=50K.   \n15059        Husband               White    Male  United-States   >50K.   \n\n      Prediction  \n0          <=50K  \n1          <=50K  \n2          <=50K  \n3           >50K  \n4          <=50K  \n...          ...  \n15055      <=50K  \n15056      <=50K  \n15057       >50K  \n15058       >50K  \n15059       >50K  \n\n[15060 rows x 10 columns]",
      "text/html": "<div>\n<style scoped>\n    .dataframe tbody tr th:only-of-type {\n        vertical-align: middle;\n    }\n\n    .dataframe tbody tr th {\n        vertical-align: top;\n    }\n\n    .dataframe thead th {\n        text-align: right;\n    }\n</style>\n<table border=\"1\" class=\"dataframe\">\n  <thead>\n    <tr style=\"text-align: right;\">\n      <th></th>\n      <th>workclass</th>\n      <th>education</th>\n      <th>marital-status</th>\n      <th>occupation</th>\n      <th>relationship</th>\n      <th>race</th>\n      <th>sex</th>\n      <th>native-country</th>\n      <th>income</th>\n      <th>Prediction</th>\n    </tr>\n  </thead>\n  <tbody>\n    <tr>\n      <th>0</th>\n      <td>Private</td>\n      <td>11th</td>\n      <td>Never-married</td>\n      <td>Machine-op-inspct</td>\n      <td>Own-child</td>\n      <td>Black</td>\n      <td>Male</td>\n      <td>United-States</td>\n      <td>&lt;=50K.</td>\n      <td>&lt;=50K</td>\n    </tr>\n    <tr>\n      <th>1</th>\n      <td>Private</td>\n      <td>HS-grad</td>\n      <td>Married-civ-spouse</td>\n      <td>Farming-fishing</td>\n      <td>Husband</td>\n      <td>White</td>\n      <td>Male</td>\n      <td>United-States</td>\n      <td>&lt;=50K.</td>\n      <td>&lt;=50K</td>\n    </tr>\n    <tr>\n      <th>2</th>\n      <td>Local-gov</td>\n      <td>Assoc-acdm</td>\n      <td>Married-civ-spouse</td>\n      <td>Protective-serv</td>\n      <td>Husband</td>\n      <td>White</td>\n      <td>Male</td>\n      <td>United-States</td>\n      <td>&gt;50K.</td>\n      <td>&lt;=50K</td>\n    </tr>\n    <tr>\n      <th>3</th>\n      <td>Private</td>\n      <td>Some-college</td>\n      <td>Married-civ-spouse</td>\n      <td>Machine-op-inspct</td>\n      <td>Husband</td>\n      <td>Black</td>\n      <td>Male</td>\n      <td>United-States</td>\n      <td>&gt;50K.</td>\n      <td>&gt;50K</td>\n    </tr>\n    <tr>\n      <th>4</th>\n      <td>Private</td>\n      <td>10th</td>\n      <td>Never-married</td>\n      <td>Other-service</td>\n      <td>Not-in-family</td>\n      <td>White</td>\n      <td>Male</td>\n      <td>United-States</td>\n      <td>&lt;=50K.</td>\n      <td>&lt;=50K</td>\n    </tr>\n    <tr>\n      <th>...</th>\n      <td>...</td>\n      <td>...</td>\n      <td>...</td>\n      <td>...</td>\n      <td>...</td>\n      <td>...</td>\n      <td>...</td>\n      <td>...</td>\n      <td>...</td>\n      <td>...</td>\n    </tr>\n    <tr>\n      <th>15055</th>\n      <td>Private</td>\n      <td>Bachelors</td>\n      <td>Never-married</td>\n      <td>Prof-specialty</td>\n      <td>Own-child</td>\n      <td>White</td>\n      <td>Male</td>\n      <td>United-States</td>\n      <td>&lt;=50K.</td>\n      <td>&lt;=50K</td>\n    </tr>\n    <tr>\n      <th>15056</th>\n      <td>Private</td>\n      <td>Bachelors</td>\n      <td>Divorced</td>\n      <td>Prof-specialty</td>\n      <td>Not-in-family</td>\n      <td>White</td>\n      <td>Female</td>\n      <td>United-States</td>\n      <td>&lt;=50K.</td>\n      <td>&lt;=50K</td>\n    </tr>\n    <tr>\n      <th>15057</th>\n      <td>Private</td>\n      <td>Bachelors</td>\n      <td>Married-civ-spouse</td>\n      <td>Prof-specialty</td>\n      <td>Husband</td>\n      <td>White</td>\n      <td>Male</td>\n      <td>United-States</td>\n      <td>&lt;=50K.</td>\n      <td>&gt;50K</td>\n    </tr>\n    <tr>\n      <th>15058</th>\n      <td>Private</td>\n      <td>Bachelors</td>\n      <td>Divorced</td>\n      <td>Adm-clerical</td>\n      <td>Own-child</td>\n      <td>Asian-Pac-Islander</td>\n      <td>Male</td>\n      <td>United-States</td>\n      <td>&lt;=50K.</td>\n      <td>&gt;50K</td>\n    </tr>\n    <tr>\n      <th>15059</th>\n      <td>Self-emp-inc</td>\n      <td>Bachelors</td>\n      <td>Married-civ-spouse</td>\n      <td>Exec-managerial</td>\n      <td>Husband</td>\n      <td>White</td>\n      <td>Male</td>\n      <td>United-States</td>\n      <td>&gt;50K.</td>\n      <td>&gt;50K</td>\n    </tr>\n  </tbody>\n</table>\n<p>15060 rows × 10 columns</p>\n</div>"
     },
     "execution_count": 33,
     "metadata": {},
     "output_type": "execute_result"
    }
   ],
   "source": [
    "test_model = test_df.drop(columns=['age', 'education_num', 'capital-gain', 'capital-loss', 'hours-per-week'])\n",
    "\n",
    "test_model"
   ],
   "metadata": {
    "collapsed": false,
    "ExecuteTime": {
     "end_time": "2024-04-15T17:45:23.801173Z",
     "start_time": "2024-04-15T17:45:23.771173400Z"
    }
   },
   "id": "ac82b0e85109af23",
   "execution_count": 33
  },
  {
   "cell_type": "code",
   "outputs": [],
   "source": [
    "X = df_model.drop(columns = ['income'])\n",
    "y = df_model['income']"
   ],
   "metadata": {
    "collapsed": false,
    "ExecuteTime": {
     "end_time": "2024-04-15T17:45:23.851172400Z",
     "start_time": "2024-04-15T17:45:23.786172500Z"
    }
   },
   "id": "cdf236b5e44ed824",
   "execution_count": 34
  },
  {
   "cell_type": "code",
   "outputs": [],
   "source": [
    "X_test = test_model.drop(columns = ['income', 'Prediction'])\n",
    "y_test = test_model['income']"
   ],
   "metadata": {
    "collapsed": false,
    "ExecuteTime": {
     "end_time": "2024-04-15T17:45:23.870172400Z",
     "start_time": "2024-04-15T17:45:23.804174200Z"
    }
   },
   "id": "ebc9452595140d4",
   "execution_count": 35
  },
  {
   "cell_type": "code",
   "outputs": [],
   "source": [
    "encoder = LabelEncoder()\n",
    "for col in X.columns:\n",
    "    X[col] = encoder.fit_transform(X[col])\n",
    "\n",
    "y = encoder.fit_transform(y)\n",
    "\n",
    "for col in X_test.columns:\n",
    "    X_test[col] = encoder.fit_transform(X_test[col])\n",
    "    \n",
    "y_test = encoder.fit_transform(y_test)"
   ],
   "metadata": {
    "collapsed": false,
    "ExecuteTime": {
     "end_time": "2024-04-15T17:45:23.941172100Z",
     "start_time": "2024-04-15T17:45:23.833173600Z"
    }
   },
   "id": "91521abdbb81b435",
   "execution_count": 36
  },
  {
   "cell_type": "code",
   "outputs": [
    {
     "name": "stdout",
     "output_type": "stream",
     "text": [
      "Accuracy:  0.8128154050464808\n",
      "              precision    recall  f1-score   support\n",
      "\n",
      "           0       0.87      0.88      0.88     11360\n",
      "           1       0.62      0.61      0.62      3700\n",
      "\n",
      "    accuracy                           0.81     15060\n",
      "   macro avg       0.75      0.74      0.75     15060\n",
      "weighted avg       0.81      0.81      0.81     15060\n"
     ]
    }
   ],
   "source": [
    "model = CategoricalNB()\n",
    "\n",
    "model.fit(X, y)\n",
    "y_pred = model.predict(X_test)\n",
    "\n",
    "accuracy = accuracy_score(y_test, y_pred)\n",
    "report = classification_report(y_test, y_pred)\n",
    "\n",
    "print(\"Accuracy: \", accuracy)\n",
    "\n",
    "print(report)"
   ],
   "metadata": {
    "collapsed": false,
    "ExecuteTime": {
     "end_time": "2024-04-15T17:45:23.962173400Z",
     "start_time": "2024-04-15T17:45:23.900173600Z"
    }
   },
   "id": "472e5ab05bd65c05",
   "execution_count": 37
  },
  {
   "cell_type": "code",
   "outputs": [],
   "source": [
    "y_test_arr = np.array(y_test)\n",
    "y_pred_arr = np.array(y_pred)"
   ],
   "metadata": {
    "collapsed": false,
    "ExecuteTime": {
     "end_time": "2024-04-15T17:45:23.963173500Z",
     "start_time": "2024-04-15T17:45:23.945175200Z"
    }
   },
   "id": "484bf5f6d893e039",
   "execution_count": 38
  },
  {
   "cell_type": "code",
   "outputs": [
    {
     "data": {
      "text/plain": "<sklearn.metrics._plot.confusion_matrix.ConfusionMatrixDisplay at 0x272cb345e20>"
     },
     "execution_count": 39,
     "metadata": {},
     "output_type": "execute_result"
    },
    {
     "data": {
      "text/plain": "<Figure size 640x480 with 2 Axes>",
      "image/png": "[encoded data removed]"
     },
     "metadata": {},
     "output_type": "display_data"
    }
   ],
   "source": [
    "c_matrix = confusion_matrix(y_test_arr, y_pred_arr)\n",
    "c_display = ConfusionMatrixDisplay(confusion_matrix = c_matrix, display_labels = ['Negative', 'Positive'])\n",
    "\n",
    "c_display.plot()"
   ],
   "metadata": {
    "collapsed": false,
    "ExecuteTime": {
     "end_time": "2024-04-15T17:45:24.135172100Z",
     "start_time": "2024-04-15T17:45:23.962173400Z"
    }
   },
   "id": "f9fb419ef8419ffe",
   "execution_count": 39
  }
 ],
 "metadata": {
  "kernelspec": {
   "display_name": "Python 3",
   "language": "python",
   "name": "python3"
  },
  "language_info": {
   "codemirror_mode": {
    "name": "ipython",
    "version": 2
   },
   "file_extension": ".py",
   "mimetype": "text/x-python",
   "name": "python",
   "nbconvert_exporter": "python",
   "pygments_lexer": "ipython2",
   "version": "2.7.6"
  }
 },
 "nbformat": 4,
 "nbformat_minor": 5
}
